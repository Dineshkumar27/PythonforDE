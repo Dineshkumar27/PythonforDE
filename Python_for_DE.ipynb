{
  "nbformat": 4,
  "nbformat_minor": 0,
  "metadata": {
    "colab": {
      "provenance": [],
      "authorship_tag": "ABX9TyP6vnOzjmv/ryaEBrMUgTLe",
      "include_colab_link": true
    },
    "kernelspec": {
      "name": "python3",
      "display_name": "Python 3"
    },
    "language_info": {
      "name": "python"
    }
  },
  "cells": [
    {
      "cell_type": "markdown",
      "metadata": {
        "id": "view-in-github",
        "colab_type": "text"
      },
      "source": [
        "<a href=\"https://colab.research.google.com/github/Dineshkumar27/PythonforDE/blob/main/Python_for_DE.ipynb\" target=\"_parent\"><img src=\"https://colab.research.google.com/assets/colab-badge.svg\" alt=\"Open In Colab\"/></a>"
      ]
    },
    {
      "cell_type": "markdown",
      "source": [
        "# **Python Session 1**"
      ],
      "metadata": {
        "id": "AFWTXEIg_k0L"
      }
    },
    {
      "cell_type": "code",
      "execution_count": 2,
      "metadata": {
        "colab": {
          "base_uri": "https://localhost:8080/"
        },
        "id": "Z-jq4Zux_Jam",
        "outputId": "f62091c0-c638-4fd2-fca5-7c0c7fbe18f9"
      },
      "outputs": [
        {
          "output_type": "stream",
          "name": "stdout",
          "text": [
            "Hello World!!\n"
          ]
        }
      ],
      "source": [
        "print(\"Hello World!!\")"
      ]
    },
    {
      "cell_type": "code",
      "source": [
        "a,b=10,20\n",
        "print(\"a=\",a,\" b=\",b)\n",
        "print(a+b)"
      ],
      "metadata": {
        "colab": {
          "base_uri": "https://localhost:8080/"
        },
        "id": "uCtlGiY6__6f",
        "outputId": "5096b6fc-6330-406b-86a5-c216e128db0a"
      },
      "execution_count": 3,
      "outputs": [
        {
          "output_type": "stream",
          "name": "stdout",
          "text": [
            "a= 10  b= 20\n",
            "30\n"
          ]
        }
      ]
    },
    {
      "cell_type": "markdown",
      "source": [
        "String\n",
        "use to record some text information, is sequence of characters, basically python track every element in the string as sequence.\n",
        "\n",
        "**P  y  t  h  o  n** <br>\n",
        "  0  1  2  3  4  5    <br>\n",
        " -6 -5 -4 -3 -2 -1\n",
        "              \n"
      ],
      "metadata": {
        "id": "Mhkr4ZYRAxLG"
      }
    },
    {
      "cell_type": "code",
      "source": [
        "print(type(\"code from basics\"))\n",
        "print(\"hello\")\n",
        "print(\"Dinesh Kumar\")"
      ],
      "metadata": {
        "colab": {
          "base_uri": "https://localhost:8080/"
        },
        "id": "x8NnU5D5ANlC",
        "outputId": "7a99936c-b4a6-4b47-a0a3-1c9b2690ec07"
      },
      "execution_count": 4,
      "outputs": [
        {
          "output_type": "stream",
          "name": "stdout",
          "text": [
            "<class 'str'>\n",
            "hello\n",
            "Dinesh Kumar\n"
          ]
        }
      ]
    },
    {
      "cell_type": "code",
      "source": [
        "name=\"Dinesh Kumar\"\n",
        "print(id(name))#it is a number, so we cannot remember\n",
        "print(name)\n"
      ],
      "metadata": {
        "colab": {
          "base_uri": "https://localhost:8080/"
        },
        "id": "auVJ5SqmBpw3",
        "outputId": "c1709ca5-7d28-4644-c5c9-d1ea42a0d4ba"
      },
      "execution_count": 5,
      "outputs": [
        {
          "output_type": "stream",
          "name": "stdout",
          "text": [
            "132972088035376\n",
            "Dinesh Kumar\n"
          ]
        }
      ]
    },
    {
      "cell_type": "code",
      "source": [
        "expr=10*20\n",
        "print(expr)"
      ],
      "metadata": {
        "colab": {
          "base_uri": "https://localhost:8080/"
        },
        "id": "2rsv9KazCNt9",
        "outputId": "830c451d-c9be-469a-f17b-8679d243d0e8"
      },
      "execution_count": 6,
      "outputs": [
        {
          "output_type": "stream",
          "name": "stdout",
          "text": [
            "200\n"
          ]
        }
      ]
    },
    {
      "cell_type": "markdown",
      "source": [],
      "metadata": {
        "id": "aVYczJxWDaXP"
      }
    },
    {
      "cell_type": "code",
      "source": [],
      "metadata": {
        "id": "SDGK7xhSCQgZ"
      },
      "execution_count": 6,
      "outputs": []
    },
    {
      "cell_type": "code",
      "source": [
        "mydata='''hello'''\n",
        "\n",
        "print(\"using print method\",mydata)\n",
        "mydata"
      ],
      "metadata": {
        "colab": {
          "base_uri": "https://localhost:8080/",
          "height": 52
        },
        "id": "3v_Ou-VeDcg_",
        "outputId": "a9285f8a-6bd1-41ab-c6cc-a402fd430d83"
      },
      "execution_count": 7,
      "outputs": [
        {
          "output_type": "stream",
          "name": "stdout",
          "text": [
            "using print method hello\n"
          ]
        },
        {
          "output_type": "execute_result",
          "data": {
            "text/plain": [
              "'hello'"
            ],
            "application/vnd.google.colaboratory.intrinsic+json": {
              "type": "string"
            }
          },
          "metadata": {},
          "execution_count": 7
        }
      ]
    },
    {
      "cell_type": "markdown",
      "source": [
        "# String Indexing\n",
        "**Index starts with 0**\n"
      ],
      "metadata": {
        "id": "HjOOAt_7D-wF"
      }
    },
    {
      "cell_type": "code",
      "source": [
        "mydata[1]"
      ],
      "metadata": {
        "colab": {
          "base_uri": "https://localhost:8080/",
          "height": 35
        },
        "id": "TmcqZ9m5EPkS",
        "outputId": "520616bc-b65a-4093-a0cf-374b39aebd11"
      },
      "execution_count": 8,
      "outputs": [
        {
          "output_type": "execute_result",
          "data": {
            "text/plain": [
              "'e'"
            ],
            "application/vnd.google.colaboratory.intrinsic+json": {
              "type": "string"
            }
          },
          "metadata": {},
          "execution_count": 8
        }
      ]
    },
    {
      "cell_type": "code",
      "source": [
        "mydata[-1]#print last letter"
      ],
      "metadata": {
        "colab": {
          "base_uri": "https://localhost:8080/",
          "height": 35
        },
        "id": "SJFXcM3aESiV",
        "outputId": "1b1e42f6-712a-431f-810b-b37b172c21cc"
      },
      "execution_count": 9,
      "outputs": [
        {
          "output_type": "execute_result",
          "data": {
            "text/plain": [
              "'o'"
            ],
            "application/vnd.google.colaboratory.intrinsic+json": {
              "type": "string"
            }
          },
          "metadata": {},
          "execution_count": 9
        }
      ]
    },
    {
      "cell_type": "code",
      "source": [
        "mydata[-2]#print 2nd last letter"
      ],
      "metadata": {
        "colab": {
          "base_uri": "https://localhost:8080/",
          "height": 35
        },
        "id": "Qaxm3YrMEgC1",
        "outputId": "ac742769-8666-42f5-9644-cc05d3703cc1"
      },
      "execution_count": 10,
      "outputs": [
        {
          "output_type": "execute_result",
          "data": {
            "text/plain": [
              "'l'"
            ],
            "application/vnd.google.colaboratory.intrinsic+json": {
              "type": "string"
            }
          },
          "metadata": {},
          "execution_count": 10
        }
      ]
    },
    {
      "cell_type": "markdown",
      "source": [
        "**Slicing**\n",
        "Slicing mean taking a particular portion of a String"
      ],
      "metadata": {
        "id": "s1qi7Q4NJNQJ"
      }
    },
    {
      "cell_type": "code",
      "source": [
        "mydata[1:4]#from index 1 to 4-1th(3) index"
      ],
      "metadata": {
        "colab": {
          "base_uri": "https://localhost:8080/",
          "height": 35
        },
        "id": "hhqkBFYmDhEV",
        "outputId": "c1ae9d7f-5b32-4007-9d46-637faed679c2"
      },
      "execution_count": 11,
      "outputs": [
        {
          "output_type": "execute_result",
          "data": {
            "text/plain": [
              "'ell'"
            ],
            "application/vnd.google.colaboratory.intrinsic+json": {
              "type": "string"
            }
          },
          "metadata": {},
          "execution_count": 11
        }
      ]
    },
    {
      "cell_type": "code",
      "source": [
        "mydata[:3]# if no number is specified before : then it will start from 0"
      ],
      "metadata": {
        "colab": {
          "base_uri": "https://localhost:8080/",
          "height": 35
        },
        "id": "pGkhd9y3FTJt",
        "outputId": "029e2be5-0dc3-40e9-95cf-75a6ca0f07a5"
      },
      "execution_count": 12,
      "outputs": [
        {
          "output_type": "execute_result",
          "data": {
            "text/plain": [
              "'hel'"
            ],
            "application/vnd.google.colaboratory.intrinsic+json": {
              "type": "string"
            }
          },
          "metadata": {},
          "execution_count": 12
        }
      ]
    },
    {
      "cell_type": "code",
      "source": [
        "mydata[1:]#if no number is specified after : it will take the element upto end"
      ],
      "metadata": {
        "colab": {
          "base_uri": "https://localhost:8080/",
          "height": 35
        },
        "id": "FYa2ZQNlFhia",
        "outputId": "81c059d0-f999-479e-85ff-78e02c0f4e70"
      },
      "execution_count": 13,
      "outputs": [
        {
          "output_type": "execute_result",
          "data": {
            "text/plain": [
              "'ello'"
            ],
            "application/vnd.google.colaboratory.intrinsic+json": {
              "type": "string"
            }
          },
          "metadata": {},
          "execution_count": 13
        }
      ]
    },
    {
      "cell_type": "code",
      "source": [
        "mydata[-3:-1]"
      ],
      "metadata": {
        "colab": {
          "base_uri": "https://localhost:8080/",
          "height": 35
        },
        "id": "qw0evTiEF1s9",
        "outputId": "33aa4862-504c-48ff-b89d-ece88094216a"
      },
      "execution_count": 14,
      "outputs": [
        {
          "output_type": "execute_result",
          "data": {
            "text/plain": [
              "'ll'"
            ],
            "application/vnd.google.colaboratory.intrinsic+json": {
              "type": "string"
            }
          },
          "metadata": {},
          "execution_count": 14
        }
      ]
    },
    {
      "cell_type": "markdown",
      "source": [
        "![image.png](data:image/png;base64,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)"
      ],
      "metadata": {
        "id": "NFW26JkDE3Q6"
      }
    },
    {
      "cell_type": "code",
      "source": [
        "mydata[-5:-3]"
      ],
      "metadata": {
        "id": "TtCdsfN9GJ7m",
        "colab": {
          "base_uri": "https://localhost:8080/",
          "height": 35
        },
        "outputId": "b4538026-288a-4591-83d7-6db9356bd422"
      },
      "execution_count": 15,
      "outputs": [
        {
          "output_type": "execute_result",
          "data": {
            "text/plain": [
              "'he'"
            ],
            "application/vnd.google.colaboratory.intrinsic+json": {
              "type": "string"
            }
          },
          "metadata": {},
          "execution_count": 15
        }
      ]
    },
    {
      "cell_type": "code",
      "source": [
        "mydata[::-1]"
      ],
      "metadata": {
        "colab": {
          "base_uri": "https://localhost:8080/",
          "height": 35
        },
        "id": "HEeq49i7Ghu2",
        "outputId": "25dbd8e7-5985-4d4e-d2f6-16417c5b8066"
      },
      "execution_count": 16,
      "outputs": [
        {
          "output_type": "execute_result",
          "data": {
            "text/plain": [
              "'olleh'"
            ],
            "application/vnd.google.colaboratory.intrinsic+json": {
              "type": "string"
            }
          },
          "metadata": {},
          "execution_count": 16
        }
      ]
    },
    {
      "cell_type": "code",
      "source": [
        "mydata[-3:-5:-1]# we will get no output, number before the colon is higher that number after the colon"
      ],
      "metadata": {
        "colab": {
          "base_uri": "https://localhost:8080/",
          "height": 35
        },
        "id": "yrQGL_TeGqXh",
        "outputId": "a46eee42-ccac-4fc0-80a0-58a7f3ee2356"
      },
      "execution_count": 51,
      "outputs": [
        {
          "output_type": "execute_result",
          "data": {
            "text/plain": [
              "'le'"
            ],
            "application/vnd.google.colaboratory.intrinsic+json": {
              "type": "string"
            }
          },
          "metadata": {},
          "execution_count": 51
        }
      ]
    },
    {
      "cell_type": "markdown",
      "source": [
        "Concatenating String"
      ],
      "metadata": {
        "id": "HzBSouzuHybB"
      }
    },
    {
      "cell_type": "code",
      "source": [
        "firstName=\"Hari\"\n",
        "lastName=\"Bhaskar\"\n",
        "print('-'*20)\n",
        "print(firstName+lastName)\n",
        "print('-'*20)\n",
        "print(\"CFB\"*5)\n"
      ],
      "metadata": {
        "colab": {
          "base_uri": "https://localhost:8080/"
        },
        "id": "x7AxCtDSG8iN",
        "outputId": "bc748231-ac33-4be1-df3c-6c2027994fce"
      },
      "execution_count": 18,
      "outputs": [
        {
          "output_type": "stream",
          "name": "stdout",
          "text": [
            "--------------------\n",
            "HariBhaskar\n",
            "--------------------\n",
            "CFBCFBCFBCFBCFB\n"
          ]
        }
      ]
    },
    {
      "cell_type": "code",
      "source": [
        "firstName.upper()"
      ],
      "metadata": {
        "colab": {
          "base_uri": "https://localhost:8080/",
          "height": 35
        },
        "id": "LciHgFHZJXjN",
        "outputId": "765a2d3d-5b45-4ce7-8933-939c58e8b104"
      },
      "execution_count": 19,
      "outputs": [
        {
          "output_type": "execute_result",
          "data": {
            "text/plain": [
              "'HARI'"
            ],
            "application/vnd.google.colaboratory.intrinsic+json": {
              "type": "string"
            }
          },
          "metadata": {},
          "execution_count": 19
        }
      ]
    },
    {
      "cell_type": "code",
      "source": [
        "firstName.lower()"
      ],
      "metadata": {
        "colab": {
          "base_uri": "https://localhost:8080/",
          "height": 35
        },
        "id": "rvWaIj2oJegf",
        "outputId": "38252c82-5710-4cb4-d970-6fe15018a305"
      },
      "execution_count": 20,
      "outputs": [
        {
          "output_type": "execute_result",
          "data": {
            "text/plain": [
              "'hari'"
            ],
            "application/vnd.google.colaboratory.intrinsic+json": {
              "type": "string"
            }
          },
          "metadata": {},
          "execution_count": 20
        }
      ]
    },
    {
      "cell_type": "code",
      "source": [
        "firstName.index('H')"
      ],
      "metadata": {
        "colab": {
          "base_uri": "https://localhost:8080/"
        },
        "id": "QsJLG3MAJgx6",
        "outputId": "b470f826-d550-49ec-9a7b-ec8704f4486d"
      },
      "execution_count": 21,
      "outputs": [
        {
          "output_type": "execute_result",
          "data": {
            "text/plain": [
              "0"
            ]
          },
          "metadata": {},
          "execution_count": 21
        }
      ]
    },
    {
      "cell_type": "markdown",
      "source": [
        "String Formatting"
      ],
      "metadata": {
        "id": "lk2PR7AzJyKx"
      }
    },
    {
      "cell_type": "code",
      "source": [
        "name=\"Peter\"\n",
        "age=24\n",
        "isMarried=True\n",
        "print(\"name \",name,\"age \",age,\"isMarried \",isMarried)\n",
        "print(\"My name is {}, my age is {}, and Am I married {}\".format(name,age,isMarried))\n",
        "print(f\"My name is {name}, age is {age*2}, Am i married {isMarried}\")\n",
        "print(\"My name is %s, my age is %d, and Am I married %s \"%(name,age,isMarried))\n"
      ],
      "metadata": {
        "colab": {
          "base_uri": "https://localhost:8080/"
        },
        "id": "xdvV5z6tJ0D9",
        "outputId": "db82d654-2b71-4a3b-a63a-50dae155e0ee"
      },
      "execution_count": 22,
      "outputs": [
        {
          "output_type": "stream",
          "name": "stdout",
          "text": [
            "name  Peter age  24 isMarried  True\n",
            "My name is Peter, my age is 24, and Am I married True\n",
            "My name is Peter, age is 48, Am i married True\n",
            "My name is Peter, my age is 24, and Am I married True \n"
          ]
        }
      ]
    },
    {
      "cell_type": "markdown",
      "source": [
        "To do\n",
        "1. isdigit()\n",
        "2. casefold()\n",
        "3. title()\n",
        "4. split()\n",
        "5. strip()"
      ],
      "metadata": {
        "id": "7qfGRLd0Ltdn"
      }
    },
    {
      "cell_type": "code",
      "source": [],
      "metadata": {
        "id": "LeWcsOeSKkkZ"
      },
      "execution_count": 22,
      "outputs": []
    },
    {
      "cell_type": "markdown",
      "source": [
        "Numbers\n",
        "\n",
        "1. Integer(10,20,-3)\n",
        "2. Floating point(10.2)"
      ],
      "metadata": {
        "id": "iRfhGpnkMQV8"
      }
    },
    {
      "cell_type": "code",
      "source": [
        "num1,num2=10,3\n",
        "print(\"num1\",num1,\"num2\",num2)"
      ],
      "metadata": {
        "colab": {
          "base_uri": "https://localhost:8080/"
        },
        "id": "QPHdRHf6MRK5",
        "outputId": "9f0bd131-fcb8-4e3f-ac99-208940ed72f9"
      },
      "execution_count": 23,
      "outputs": [
        {
          "output_type": "stream",
          "name": "stdout",
          "text": [
            "num1 10 num2 3\n"
          ]
        }
      ]
    },
    {
      "cell_type": "code",
      "source": [
        "print(num1+num2)\n",
        "print(num1*num2)\n",
        "print(num1//num2)\n",
        "print(num1%num2)"
      ],
      "metadata": {
        "colab": {
          "base_uri": "https://localhost:8080/"
        },
        "id": "xmKF5u85Mt31",
        "outputId": "52f97cec-516a-42ca-9834-5cf8db159675"
      },
      "execution_count": 24,
      "outputs": [
        {
          "output_type": "stream",
          "name": "stdout",
          "text": [
            "13\n",
            "30\n",
            "3\n",
            "1\n"
          ]
        }
      ]
    },
    {
      "cell_type": "code",
      "source": [
        "2+10*10+3\n"
      ],
      "metadata": {
        "colab": {
          "base_uri": "https://localhost:8080/"
        },
        "id": "KKHL7DxkNNvb",
        "outputId": "8ed98069-7928-48e7-daff-a7e57eacf474"
      },
      "execution_count": 25,
      "outputs": [
        {
          "output_type": "execute_result",
          "data": {
            "text/plain": [
              "105"
            ]
          },
          "metadata": {},
          "execution_count": 25
        }
      ]
    },
    {
      "cell_type": "code",
      "source": [
        "(2+10)*(10+3)"
      ],
      "metadata": {
        "colab": {
          "base_uri": "https://localhost:8080/"
        },
        "id": "_jA5-Q2nNT-s",
        "outputId": "a6e51b30-ecb1-4b2a-ce61-19f328aefe39"
      },
      "execution_count": 26,
      "outputs": [
        {
          "output_type": "execute_result",
          "data": {
            "text/plain": [
              "156"
            ]
          },
          "metadata": {},
          "execution_count": 26
        }
      ]
    },
    {
      "cell_type": "code",
      "source": [
        "15/2+10"
      ],
      "metadata": {
        "colab": {
          "base_uri": "https://localhost:8080/"
        },
        "id": "U_ZKtXIRNvk3",
        "outputId": "d4c35054-6371-4eb5-bc38-2fe4413db410"
      },
      "execution_count": 27,
      "outputs": [
        {
          "output_type": "execute_result",
          "data": {
            "text/plain": [
              "17.5"
            ]
          },
          "metadata": {},
          "execution_count": 27
        }
      ]
    },
    {
      "cell_type": "markdown",
      "source": [
        "variable must be meaningful\n",
        "should start with _ or alphabet\n",
        "should not have any spl. characters"
      ],
      "metadata": {
        "id": "BColo53dOYQd"
      }
    },
    {
      "cell_type": "code",
      "source": [
        "age=10\n",
        "age10=1\n",
        "age_10=1\n",
        "first_name=\"python\"\n",
        "FIRST_NAME=\"PROGRAMMING\"\n",
        "print(first_name)"
      ],
      "metadata": {
        "colab": {
          "base_uri": "https://localhost:8080/"
        },
        "id": "tPI3Ms5IOAhV",
        "outputId": "be7b6db8-17d5-466e-9bf7-835169b2ad50"
      },
      "execution_count": 28,
      "outputs": [
        {
          "output_type": "stream",
          "name": "stdout",
          "text": [
            "python\n"
          ]
        }
      ]
    },
    {
      "cell_type": "markdown",
      "source": [
        "Datatype <br>\n",
        "**Single values**\n",
        "1. int\n",
        "2. float\n",
        "3. Strings\n",
        "8. Boolean\n",
        "**Multiple values**\n",
        "4. Lists\n",
        "5. Dictionary\n",
        "6. Typles\n",
        "7. Set\n"
      ],
      "metadata": {
        "id": "EVY8_14YPAR6"
      }
    },
    {
      "cell_type": "code",
      "source": [
        "age=10\n",
        "avg=10.5\n",
        "name=\"python\"\n",
        "isMarried=False\n",
        "print(type(age))\n",
        "print(type(avg))\n",
        "print(type(name))\n",
        "print(type(isMarried))"
      ],
      "metadata": {
        "colab": {
          "base_uri": "https://localhost:8080/"
        },
        "id": "fqtnmu-cPl7x",
        "outputId": "73815dfd-fe95-4d78-dbf1-c6787b2acb59"
      },
      "execution_count": 29,
      "outputs": [
        {
          "output_type": "stream",
          "name": "stdout",
          "text": [
            "<class 'int'>\n",
            "<class 'float'>\n",
            "<class 'str'>\n",
            "<class 'bool'>\n"
          ]
        }
      ]
    },
    {
      "cell_type": "markdown",
      "source": [
        "List\n",
        "1. creating list\n",
        "2. Indexing and Slicing\n",
        "3. Basic List Methods\n",
        "4. Nesting Lists\n",
        "5. List Comprehension"
      ],
      "metadata": {
        "id": "6FY4PA1DQPiu"
      }
    },
    {
      "cell_type": "markdown",
      "source": [
        "\n",
        "\n",
        "```\n",
        "List is ordered\n",
        "List is mutable\n",
        "List can have hetrogenous data\n",
        "List can have duplicate\n",
        "```\n",
        "\n"
      ],
      "metadata": {
        "id": "vfjFoFMURpH1"
      }
    },
    {
      "cell_type": "code",
      "source": [
        "lst=[]\n",
        "lst1=list()\n",
        "print(lst)\n",
        "print(lst1)"
      ],
      "metadata": {
        "colab": {
          "base_uri": "https://localhost:8080/"
        },
        "id": "-VtbI1OAQLSV",
        "outputId": "35b34ce2-8d59-4dee-a380-a4e8cedd0174"
      },
      "execution_count": 30,
      "outputs": [
        {
          "output_type": "stream",
          "name": "stdout",
          "text": [
            "[]\n",
            "[]\n"
          ]
        }
      ]
    },
    {
      "cell_type": "markdown",
      "source": [
        "\n",
        "\n",
        "```\n",
        "[101,\"Rajkumar\",\"12th\",[89,67,56]]\n",
        "                       __________\n",
        "  0      1        2        3    \n",
        "```\n",
        "\n"
      ],
      "metadata": {
        "id": "y_dEzCR_RGBR"
      }
    },
    {
      "cell_type": "code",
      "source": [
        "student=[101,\"Rajkumar\",\"12th\",[89,67,56],101]#[id,name,class,marks,doornumber]\n",
        "print(student)"
      ],
      "metadata": {
        "colab": {
          "base_uri": "https://localhost:8080/"
        },
        "id": "5KLV3HBXQmt3",
        "outputId": "6c1877fa-b79a-4b63-ab26-f40da1a69eb1"
      },
      "execution_count": 31,
      "outputs": [
        {
          "output_type": "stream",
          "name": "stdout",
          "text": [
            "[101, 'Rajkumar', '12th', [89, 67, 56], 101]\n"
          ]
        }
      ]
    },
    {
      "cell_type": "code",
      "source": [
        "#chaning the name of the student\n",
        "student[1]=\"Raju\"\n",
        "print(student)\n"
      ],
      "metadata": {
        "colab": {
          "base_uri": "https://localhost:8080/"
        },
        "id": "V6kSkZU1Q9Q2",
        "outputId": "851b8e71-9cb8-4806-b622-cf5fa7cb799a"
      },
      "execution_count": 32,
      "outputs": [
        {
          "output_type": "stream",
          "name": "stdout",
          "text": [
            "[101, 'Raju', '12th', [89, 67, 56], 101]\n"
          ]
        }
      ]
    },
    {
      "cell_type": "code",
      "source": [
        "#find the number of elements in student list\n",
        "len(student)"
      ],
      "metadata": {
        "colab": {
          "base_uri": "https://localhost:8080/"
        },
        "id": "e7zxLxE0Ronf",
        "outputId": "9b1f1a7c-76f7-422a-c67d-95cd21e9de57"
      },
      "execution_count": 33,
      "outputs": [
        {
          "output_type": "execute_result",
          "data": {
            "text/plain": [
              "5"
            ]
          },
          "metadata": {},
          "execution_count": 33
        }
      ]
    },
    {
      "cell_type": "code",
      "source": [
        "student[2]"
      ],
      "metadata": {
        "colab": {
          "base_uri": "https://localhost:8080/",
          "height": 35
        },
        "id": "9bMQw3e1RWP6",
        "outputId": "63734fc7-4b55-471f-ec8f-1bd5e5076d70"
      },
      "execution_count": 34,
      "outputs": [
        {
          "output_type": "execute_result",
          "data": {
            "text/plain": [
              "'12th'"
            ],
            "application/vnd.google.colaboratory.intrinsic+json": {
              "type": "string"
            }
          },
          "metadata": {},
          "execution_count": 34
        }
      ]
    },
    {
      "cell_type": "code",
      "source": [
        "student[-1]"
      ],
      "metadata": {
        "colab": {
          "base_uri": "https://localhost:8080/"
        },
        "id": "4BMYJCeRSVQ5",
        "outputId": "23e74670-1138-418d-e0cb-07e7b3099398"
      },
      "execution_count": 35,
      "outputs": [
        {
          "output_type": "execute_result",
          "data": {
            "text/plain": [
              "101"
            ]
          },
          "metadata": {},
          "execution_count": 35
        }
      ]
    },
    {
      "cell_type": "code",
      "source": [
        "student[-2]"
      ],
      "metadata": {
        "colab": {
          "base_uri": "https://localhost:8080/"
        },
        "id": "n1BcoFDiSX8e",
        "outputId": "409cda17-afbc-4fce-bad8-2d3cdcfa00f8"
      },
      "execution_count": 36,
      "outputs": [
        {
          "output_type": "execute_result",
          "data": {
            "text/plain": [
              "[89, 67, 56]"
            ]
          },
          "metadata": {},
          "execution_count": 36
        }
      ]
    },
    {
      "cell_type": "code",
      "source": [
        "student[-2][1]"
      ],
      "metadata": {
        "colab": {
          "base_uri": "https://localhost:8080/"
        },
        "id": "lE4PLzSeSePn",
        "outputId": "dab0f302-2870-46d9-87e5-bcf7a7875461"
      },
      "execution_count": 37,
      "outputs": [
        {
          "output_type": "execute_result",
          "data": {
            "text/plain": [
              "67"
            ]
          },
          "metadata": {},
          "execution_count": 37
        }
      ]
    },
    {
      "cell_type": "code",
      "source": [
        "len(student[-2])"
      ],
      "metadata": {
        "colab": {
          "base_uri": "https://localhost:8080/"
        },
        "id": "z55COkrTShU6",
        "outputId": "4d035864-009a-46c9-b873-1b32a029e386"
      },
      "execution_count": 38,
      "outputs": [
        {
          "output_type": "execute_result",
          "data": {
            "text/plain": [
              "3"
            ]
          },
          "metadata": {},
          "execution_count": 38
        }
      ]
    },
    {
      "cell_type": "markdown",
      "source": [
        "Add elements to the list"
      ],
      "metadata": {
        "id": "Jp88QWuOS83Y"
      }
    },
    {
      "cell_type": "code",
      "source": [
        "lst=[]"
      ],
      "metadata": {
        "id": "Vowz_doeSmzr"
      },
      "execution_count": 39,
      "outputs": []
    },
    {
      "cell_type": "code",
      "source": [
        "lst.append(1)\n",
        "print(lst)"
      ],
      "metadata": {
        "colab": {
          "base_uri": "https://localhost:8080/"
        },
        "id": "oWsNiGS0TBc4",
        "outputId": "42d825d9-8915-459a-fefd-7c74870fe9e7"
      },
      "execution_count": 40,
      "outputs": [
        {
          "output_type": "stream",
          "name": "stdout",
          "text": [
            "[1]\n"
          ]
        }
      ]
    },
    {
      "cell_type": "code",
      "source": [
        "lst.append(4)\n",
        "print(lst)"
      ],
      "metadata": {
        "colab": {
          "base_uri": "https://localhost:8080/"
        },
        "id": "jLSumLfETGaR",
        "outputId": "ddad1b2d-454e-47e6-8f18-70c6d520aef8"
      },
      "execution_count": 41,
      "outputs": [
        {
          "output_type": "stream",
          "name": "stdout",
          "text": [
            "[1, 4]\n"
          ]
        }
      ]
    },
    {
      "cell_type": "code",
      "source": [
        "lst.append(56)\n",
        "print(lst)"
      ],
      "metadata": {
        "colab": {
          "base_uri": "https://localhost:8080/"
        },
        "id": "6vQk0g6nTIf6",
        "outputId": "0947cbc1-7049-4564-9011-8a09053270df"
      },
      "execution_count": 42,
      "outputs": [
        {
          "output_type": "stream",
          "name": "stdout",
          "text": [
            "[1, 4, 56]\n"
          ]
        }
      ]
    },
    {
      "cell_type": "code",
      "source": [
        "lst.append(\"Vasu\")\n",
        "print(lst)"
      ],
      "metadata": {
        "colab": {
          "base_uri": "https://localhost:8080/"
        },
        "id": "Efw4KPaHTOY_",
        "outputId": "fbf8a5b1-7b62-4639-eb7c-a53e54b31858"
      },
      "execution_count": 43,
      "outputs": [
        {
          "output_type": "stream",
          "name": "stdout",
          "text": [
            "[1, 4, 56, 'Vasu']\n"
          ]
        }
      ]
    },
    {
      "cell_type": "code",
      "source": [
        "lst.extend([23])\n",
        "lst"
      ],
      "metadata": {
        "colab": {
          "base_uri": "https://localhost:8080/"
        },
        "id": "uHA_aT7vTPsK",
        "outputId": "ff0b98b9-ffad-45bf-f48a-515e95ce5726"
      },
      "execution_count": 44,
      "outputs": [
        {
          "output_type": "execute_result",
          "data": {
            "text/plain": [
              "[1, 4, 56, 'Vasu', 23]"
            ]
          },
          "metadata": {},
          "execution_count": 44
        }
      ]
    },
    {
      "cell_type": "code",
      "source": [
        "lst.extend([1,2,6,7,8,99])\n",
        "lst"
      ],
      "metadata": {
        "colab": {
          "base_uri": "https://localhost:8080/"
        },
        "id": "cs0TznIVTXr_",
        "outputId": "123aca40-6477-49c9-8f93-5c53cd4ec048"
      },
      "execution_count": 45,
      "outputs": [
        {
          "output_type": "execute_result",
          "data": {
            "text/plain": [
              "[1, 4, 56, 'Vasu', 23, 1, 2, 6, 7, 8, 99]"
            ]
          },
          "metadata": {},
          "execution_count": 45
        }
      ]
    },
    {
      "cell_type": "markdown",
      "source": [
        "List slicing <br>\n",
        "\n",
        "listname[startindex:endindex]"
      ],
      "metadata": {
        "id": "zIT6kysiUOkc"
      }
    },
    {
      "cell_type": "markdown",
      "source": [
        "\n",
        "\n",
        "```\n",
        "[1, 4, 56, 'Vasu', 45, 89, 'Chennai', 23, 1, 2, 6,  7, 8 , 99]\n",
        " 0  1   2    3      4   5     6       7   8  9  10 11  12  13\n",
        "```\n",
        "\n"
      ],
      "metadata": {
        "id": "5uuVq1urUZid"
      }
    },
    {
      "cell_type": "code",
      "source": [
        "lst[3:10]#3 to 9"
      ],
      "metadata": {
        "colab": {
          "base_uri": "https://localhost:8080/"
        },
        "id": "7XWaykF9UVxg",
        "outputId": "b7660bf4-6615-42e4-ed68-ba1eb422c578"
      },
      "execution_count": 46,
      "outputs": [
        {
          "output_type": "execute_result",
          "data": {
            "text/plain": [
              "['Vasu', 23, 1, 2, 6, 7, 8]"
            ]
          },
          "metadata": {},
          "execution_count": 46
        }
      ]
    },
    {
      "cell_type": "code",
      "source": [
        "lst[:10]#0 to 9"
      ],
      "metadata": {
        "colab": {
          "base_uri": "https://localhost:8080/"
        },
        "id": "ZFgt1AyzUXPs",
        "outputId": "acdb5526-657c-4e8a-e9a2-9945fe172e71"
      },
      "execution_count": 47,
      "outputs": [
        {
          "output_type": "execute_result",
          "data": {
            "text/plain": [
              "[1, 4, 56, 'Vasu', 23, 1, 2, 6, 7, 8]"
            ]
          },
          "metadata": {},
          "execution_count": 47
        }
      ]
    },
    {
      "cell_type": "code",
      "source": [
        "lst[2:]#2 to last index(13)"
      ],
      "metadata": {
        "colab": {
          "base_uri": "https://localhost:8080/"
        },
        "id": "cRmkMht_U15p",
        "outputId": "6aa79701-9362-4d19-eed1-a415ae84c9d1"
      },
      "execution_count": 48,
      "outputs": [
        {
          "output_type": "execute_result",
          "data": {
            "text/plain": [
              "[56, 'Vasu', 23, 1, 2, 6, 7, 8, 99]"
            ]
          },
          "metadata": {},
          "execution_count": 48
        }
      ]
    },
    {
      "cell_type": "code",
      "source": [
        "lst[13:10]#0 to 9"
      ],
      "metadata": {
        "id": "dE-mMqVYU7Uq",
        "outputId": "5a498be5-fbd0-4933-9c1a-2776e3b37f82",
        "colab": {
          "base_uri": "https://localhost:8080/"
        }
      },
      "execution_count": 49,
      "outputs": [
        {
          "output_type": "execute_result",
          "data": {
            "text/plain": [
              "[]"
            ]
          },
          "metadata": {},
          "execution_count": 49
        }
      ]
    },
    {
      "cell_type": "code",
      "source": [
        "lst.insert(2,\"Codefrombasics\")\n",
        "print(lst)"
      ],
      "metadata": {
        "colab": {
          "base_uri": "https://localhost:8080/"
        },
        "id": "aU0-PYsnAlIf",
        "outputId": "5e36ff6e-34ee-45e1-be7d-bccf590c7b95"
      },
      "execution_count": 53,
      "outputs": [
        {
          "output_type": "stream",
          "name": "stdout",
          "text": [
            "[1, 4, 'Codefrombasics', 56, 'Vasu', 23, 1, 2, 6, 7, 8, 99]\n"
          ]
        }
      ]
    },
    {
      "cell_type": "markdown",
      "source": [],
      "metadata": {
        "id": "-SVq0PIlAkUn"
      }
    },
    {
      "cell_type": "code",
      "source": [
        "print(lst.index(\"Codefrombasics\"))\n",
        "print(lst.index(\"Codefrombasics\",2))\n",
        "print(lst.index(6,2,9))\n",
        "\n"
      ],
      "metadata": {
        "colab": {
          "base_uri": "https://localhost:8080/"
        },
        "id": "P2Ec4CdaA1A5",
        "outputId": "6101e042-17a1-44a6-87e7-75e62a6f569d"
      },
      "execution_count": 62,
      "outputs": [
        {
          "output_type": "stream",
          "name": "stdout",
          "text": [
            "2\n",
            "2\n",
            "8\n"
          ]
        }
      ]
    },
    {
      "cell_type": "code",
      "source": [
        "#generate some numbers\n",
        "list(range(5))\n",
        "print(list(range(3,14)))"
      ],
      "metadata": {
        "colab": {
          "base_uri": "https://localhost:8080/"
        },
        "id": "RKRn9n0RA3xe",
        "outputId": "88193a9b-2bb4-4eef-b0be-1f7eff7b5963"
      },
      "execution_count": 65,
      "outputs": [
        {
          "output_type": "stream",
          "name": "stdout",
          "text": [
            "[3, 4, 5, 6, 7, 8, 9, 10, 11, 12, 13]\n"
          ]
        }
      ]
    },
    {
      "cell_type": "code",
      "source": [
        "nums=list(range(3,14))\n",
        "print(max(nums))\n",
        "print(min(nums))\n",
        "print(sum(nums))\n",
        "print(len(nums))"
      ],
      "metadata": {
        "colab": {
          "base_uri": "https://localhost:8080/"
        },
        "id": "cE2guO3vCJ_c",
        "outputId": "24825975-7b8e-47ef-a7cb-83584cccaca0"
      },
      "execution_count": 66,
      "outputs": [
        {
          "output_type": "stream",
          "name": "stdout",
          "text": [
            "13\n",
            "3\n",
            "88\n",
            "11\n"
          ]
        }
      ]
    },
    {
      "cell_type": "code",
      "source": [
        "unordered=[5, 4, 3, 6, 17, 8, 19, 10, 11, 12, 13]\n",
        "print(unordered)\n",
        "unordered.sort()#entire list will be sorted,it will change the content\n",
        "print(\"after sorted\",unordered)\n",
        "unordered.reverse()#entire list will be reversed, it will change the content\n",
        "print(\"after reverse\",unordered)"
      ],
      "metadata": {
        "colab": {
          "base_uri": "https://localhost:8080/"
        },
        "id": "MmOKh7TKCfVZ",
        "outputId": "f383bd82-6d2f-4b1a-a1e6-2ffa3035c508"
      },
      "execution_count": 68,
      "outputs": [
        {
          "output_type": "stream",
          "name": "stdout",
          "text": [
            "[5, 4, 3, 6, 17, 8, 19, 10, 11, 12, 13]\n",
            "after sorted [3, 4, 5, 6, 8, 10, 11, 12, 13, 17, 19]\n",
            "after reverse [19, 17, 13, 12, 11, 10, 8, 6, 5, 4, 3]\n"
          ]
        }
      ]
    },
    {
      "cell_type": "code",
      "source": [
        "# how to perform sorting and reverse without changing the actual content\n",
        "unordered=[5, 4, 3, 6, 17, 8, 19, 10, 11, 12, 13]\n",
        "print(\"sorted list\",sorted(unordered))\n",
        "print(\"actual list\",unordered)\n",
        "print(\"reversed\",sorted(unordered,reverse=True))\n",
        "print(\"actual list\",unordered)"
      ],
      "metadata": {
        "colab": {
          "base_uri": "https://localhost:8080/"
        },
        "id": "X_tk8UwYDK7N",
        "outputId": "0b35e416-1c51-40f5-a256-602e25508e82"
      },
      "execution_count": 71,
      "outputs": [
        {
          "output_type": "stream",
          "name": "stdout",
          "text": [
            "sorted list [3, 4, 5, 6, 8, 10, 11, 12, 13, 17, 19]\n",
            "actual list [5, 4, 3, 6, 17, 8, 19, 10, 11, 12, 13]\n",
            "reversed [19, 17, 13, 12, 11, 10, 8, 6, 5, 4, 3]\n",
            "actual list [5, 4, 3, 6, 17, 8, 19, 10, 11, 12, 13]\n"
          ]
        }
      ]
    },
    {
      "cell_type": "code",
      "source": [
        "lst"
      ],
      "metadata": {
        "colab": {
          "base_uri": "https://localhost:8080/"
        },
        "id": "CIgDCN3FFAu_",
        "outputId": "48630611-38b7-4710-a3cd-fd35cfb9d48d"
      },
      "execution_count": 72,
      "outputs": [
        {
          "output_type": "execute_result",
          "data": {
            "text/plain": [
              "[1, 4, 'Codefrombasics', 56, 'Vasu', 23, 1, 2, 6, 7, 8, 99]"
            ]
          },
          "metadata": {},
          "execution_count": 72
        }
      ]
    },
    {
      "cell_type": "code",
      "source": [
        "lst.count(56)"
      ],
      "metadata": {
        "colab": {
          "base_uri": "https://localhost:8080/"
        },
        "id": "Ban2iNM3FG-1",
        "outputId": "308a2fd7-4c64-4d47-afa2-d6d80b550ec4"
      },
      "execution_count": 73,
      "outputs": [
        {
          "output_type": "execute_result",
          "data": {
            "text/plain": [
              "1"
            ]
          },
          "metadata": {},
          "execution_count": 73
        }
      ]
    },
    {
      "cell_type": "code",
      "source": [
        "#removing the elements from the list\n",
        "# print(\"before removing\",lst)\n",
        "# lst.remove('Vasu')\n",
        "# print(\"after removing\",lst)\n",
        "\n",
        "\n",
        "#if you want to remove the element based on the index\n",
        "# print(\"before removing\",lst)\n",
        "# lst.pop(2)# 2 is the index\n",
        "# print(\"after removing 2nd position element \",lst)\n",
        "\n",
        "#pop() it will remove the last element\n",
        "# lst.pop()\n",
        "# print(lst)\n",
        "\n",
        "#i want to remove the elements 23, 1, 2\n",
        "# del lst[3:6]\n",
        "# print(lst)\n",
        "\n",
        "# del lst #this will remove the lst from the memory\n",
        "# print(lst)\n"
      ],
      "metadata": {
        "colab": {
          "base_uri": "https://localhost:8080/",
          "height": 176
        },
        "id": "kD1TON5HFMN7",
        "outputId": "de42d223-340c-48f0-92d1-7692650b2bd3"
      },
      "execution_count": 80,
      "outputs": [
        {
          "output_type": "error",
          "ename": "NameError",
          "evalue": "name 'lst' is not defined",
          "traceback": [
            "\u001b[0;31m---------------------------------------------------------------------------\u001b[0m",
            "\u001b[0;31mNameError\u001b[0m                                 Traceback (most recent call last)",
            "\u001b[0;32m<ipython-input-80-d3096825f682>\u001b[0m in \u001b[0;36m<cell line: 0>\u001b[0;34m()\u001b[0m\n\u001b[1;32m     19\u001b[0m \u001b[0;34m\u001b[0m\u001b[0m\n\u001b[1;32m     20\u001b[0m \u001b[0;32mdel\u001b[0m \u001b[0mlst\u001b[0m \u001b[0;31m#this will remove the lst from the memory\u001b[0m\u001b[0;34m\u001b[0m\u001b[0;34m\u001b[0m\u001b[0m\n\u001b[0;32m---> 21\u001b[0;31m \u001b[0mprint\u001b[0m\u001b[0;34m(\u001b[0m\u001b[0mlst\u001b[0m\u001b[0;34m)\u001b[0m\u001b[0;34m\u001b[0m\u001b[0;34m\u001b[0m\u001b[0m\n\u001b[0m",
            "\u001b[0;31mNameError\u001b[0m: name 'lst' is not defined"
          ]
        }
      ]
    },
    {
      "cell_type": "code",
      "source": [
        "#tuples are like list but it is immatable, elements cannot be changed\n",
        "\n",
        "t1=(1,2,3)\n",
        "print(t1)\n",
        "print(type(t1))\n",
        "t2=1,\n",
        "print(type(t2))\n",
        "\n",
        "#same type can be concatenated (joined)\n",
        "# 1+1\n",
        "# 7.5+4.5\n",
        "# # 1+'a'\n",
        "# [1,2]+(3,4)"
      ],
      "metadata": {
        "colab": {
          "base_uri": "https://localhost:8080/"
        },
        "id": "-Oo8wGhEGs4a",
        "outputId": "bf1c4554-fcfc-428d-9984-4785612bed4e"
      },
      "execution_count": 87,
      "outputs": [
        {
          "output_type": "stream",
          "name": "stdout",
          "text": [
            "(1, 2, 3)\n",
            "<class 'tuple'>\n",
            "<class 'tuple'>\n"
          ]
        }
      ]
    },
    {
      "cell_type": "code",
      "source": [
        "# t1[1]=13 #error, because tuple is immutable"
      ],
      "metadata": {
        "colab": {
          "base_uri": "https://localhost:8080/",
          "height": 141
        },
        "id": "IQjuDq_-Gs2I",
        "outputId": "f40cb70a-bed2-4db3-f58f-c46f3ce4db18"
      },
      "execution_count": 89,
      "outputs": [
        {
          "output_type": "error",
          "ename": "TypeError",
          "evalue": "'tuple' object does not support item assignment",
          "traceback": [
            "\u001b[0;31m---------------------------------------------------------------------------\u001b[0m",
            "\u001b[0;31mTypeError\u001b[0m                                 Traceback (most recent call last)",
            "\u001b[0;32m<ipython-input-89-d657c2f6d9f6>\u001b[0m in \u001b[0;36m<cell line: 0>\u001b[0;34m()\u001b[0m\n\u001b[0;32m----> 1\u001b[0;31m \u001b[0mt1\u001b[0m\u001b[0;34m[\u001b[0m\u001b[0;36m1\u001b[0m\u001b[0;34m]\u001b[0m\u001b[0;34m=\u001b[0m\u001b[0;36m13\u001b[0m\u001b[0;34m\u001b[0m\u001b[0;34m\u001b[0m\u001b[0m\n\u001b[0m",
            "\u001b[0;31mTypeError\u001b[0m: 'tuple' object does not support item assignment"
          ]
        }
      ]
    },
    {
      "cell_type": "code",
      "source": [
        "t1_list=list(t1) #converts the t1 tuple into list\n",
        "t1_list[1]=13\n",
        "t1=tuple(t1_list) #converts the t1list to t1 tuple\n",
        "print(t1)"
      ],
      "metadata": {
        "colab": {
          "base_uri": "https://localhost:8080/"
        },
        "id": "uf3KqMsJHfxt",
        "outputId": "ca3351b8-1caf-4107-b6a2-f35098241cff"
      },
      "execution_count": 90,
      "outputs": [
        {
          "output_type": "stream",
          "name": "stdout",
          "text": [
            "(1, 13, 3)\n"
          ]
        }
      ]
    },
    {
      "cell_type": "code",
      "source": [
        "t1.count(1)"
      ],
      "metadata": {
        "colab": {
          "base_uri": "https://localhost:8080/"
        },
        "id": "DYgRN4DWHtWA",
        "outputId": "8e531e62-29de-46b6-efe4-de6152db940a"
      },
      "execution_count": 91,
      "outputs": [
        {
          "output_type": "execute_result",
          "data": {
            "text/plain": [
              "1"
            ]
          },
          "metadata": {},
          "execution_count": 91
        }
      ]
    },
    {
      "cell_type": "code",
      "source": [
        "t1.index(1)"
      ],
      "metadata": {
        "colab": {
          "base_uri": "https://localhost:8080/"
        },
        "id": "Dz3W6zgJHvEC",
        "outputId": "8446f231-47d8-4d6d-ef3a-3d5e1d140cf7"
      },
      "execution_count": 92,
      "outputs": [
        {
          "output_type": "execute_result",
          "data": {
            "text/plain": [
              "0"
            ]
          },
          "metadata": {},
          "execution_count": 92
        }
      ]
    },
    {
      "cell_type": "code",
      "source": [
        "# t1.index(12)"
      ],
      "metadata": {
        "colab": {
          "base_uri": "https://localhost:8080/",
          "height": 141
        },
        "id": "P7X6ylkDHwau",
        "outputId": "6db3383e-31e6-45c3-c245-cda68493d8de"
      },
      "execution_count": 94,
      "outputs": [
        {
          "output_type": "error",
          "ename": "ValueError",
          "evalue": "tuple.index(x): x not in tuple",
          "traceback": [
            "\u001b[0;31m---------------------------------------------------------------------------\u001b[0m",
            "\u001b[0;31mValueError\u001b[0m                                Traceback (most recent call last)",
            "\u001b[0;32m<ipython-input-94-c5d2e793b3de>\u001b[0m in \u001b[0;36m<cell line: 0>\u001b[0;34m()\u001b[0m\n\u001b[0;32m----> 1\u001b[0;31m \u001b[0mt1\u001b[0m\u001b[0;34m.\u001b[0m\u001b[0mindex\u001b[0m\u001b[0;34m(\u001b[0m\u001b[0;36m12\u001b[0m\u001b[0;34m)\u001b[0m\u001b[0;34m\u001b[0m\u001b[0;34m\u001b[0m\u001b[0m\n\u001b[0m",
            "\u001b[0;31mValueError\u001b[0m: tuple.index(x): x not in tuple"
          ]
        }
      ]
    },
    {
      "cell_type": "code",
      "source": [
        "t3=tuple(range(11,25))\n",
        "print(t3)"
      ],
      "metadata": {
        "colab": {
          "base_uri": "https://localhost:8080/"
        },
        "id": "X0wb92R2H490",
        "outputId": "89225aee-388f-4670-d06c-f4fd9e4e752c"
      },
      "execution_count": 99,
      "outputs": [
        {
          "output_type": "stream",
          "name": "stdout",
          "text": [
            "(11, 12, 13, 14, 15, 16, 17, 18, 19, 20, 21, 22, 23, 24)\n"
          ]
        }
      ]
    },
    {
      "cell_type": "code",
      "source": [
        "indexof15=t3.index(16) #4\n",
        "print(indexof15)\n",
        "t3[indexof15:indexof15+3]"
      ],
      "metadata": {
        "colab": {
          "base_uri": "https://localhost:8080/"
        },
        "id": "cQaa1EwaIBBx",
        "outputId": "d316ee44-a7f5-48bb-bae1-a37e7c9436f4"
      },
      "execution_count": 101,
      "outputs": [
        {
          "output_type": "stream",
          "name": "stdout",
          "text": [
            "5\n"
          ]
        },
        {
          "output_type": "execute_result",
          "data": {
            "text/plain": [
              "(16, 17, 18)"
            ]
          },
          "metadata": {},
          "execution_count": 101
        }
      ]
    },
    {
      "cell_type": "code",
      "source": [
        "#set elements are enclosed with {}\n",
        "# elements do not have index number\n",
        "# order cannot be maintained(unordered)\n",
        "# set can be accessed only with for Loop\n",
        "# set will not allow duplicate"
      ],
      "metadata": {
        "id": "mZg4NXqIJggR"
      },
      "execution_count": null,
      "outputs": []
    },
    {
      "cell_type": "code",
      "source": [
        "nums={3,4,112,789}\n",
        "print(nums)\n",
        "\n",
        "nums.add(345)\n",
        "print(\"after adding 345\",nums)\n",
        "\n",
        "nums.update({116,765})\n",
        "print(\"after updating\",nums)\n",
        "\n",
        "nums.remove(345)\n",
        "print(\"after removing 345\",nums)\n",
        "\n",
        "deltedelement=nums.pop()\n",
        "print(deltedelement)"
      ],
      "metadata": {
        "colab": {
          "base_uri": "https://localhost:8080/"
        },
        "id": "npFa0NOtJuWH",
        "outputId": "03f75e6c-2ee4-47de-c5bd-ae2246d296d1"
      },
      "execution_count": 106,
      "outputs": [
        {
          "output_type": "stream",
          "name": "stdout",
          "text": [
            "{112, 3, 4, 789}\n",
            "after adding 345 {3, 4, 112, 789, 345}\n",
            "after updating {3, 4, 112, 116, 789, 345, 765}\n",
            "after removing 345 {3, 4, 112, 116, 789, 765}\n",
            "3\n"
          ]
        }
      ]
    },
    {
      "cell_type": "code",
      "source": [
        "set1={1,2,3,4,5,6}\n",
        "set2={11,12,13,14,15,16}\n",
        "print(set1.union(set2))\n",
        "print(set1.intersection(set2))\n",
        "print(set1.difference(set2))\n",
        "print(set2.difference(set1))\n",
        "\n",
        "print(234 in set1)\n",
        "print(234 not in set1)\n",
        "\n",
        "#i want uncommon element from both set1 and set2\n",
        "print(set1.symmetric_difference(set2))\n",
        "print(set2.symmetric_difference(set1))\n",
        "\n",
        "print(set1.isdisjoint(set2))# none of the elements from set1 is not in the set2\n",
        "print(set2.isdisjoint(set1))# none of the elements from set2 is not in the set1\n"
      ],
      "metadata": {
        "colab": {
          "base_uri": "https://localhost:8080/"
        },
        "id": "69EhWha0KfkW",
        "outputId": "e70cfe4b-eed0-492a-cf64-52ebaf456700"
      },
      "execution_count": 115,
      "outputs": [
        {
          "output_type": "stream",
          "name": "stdout",
          "text": [
            "{1, 2, 3, 4, 5, 6, 11, 12, 13, 14, 15, 16}\n",
            "set()\n",
            "{1, 2, 3, 4, 5, 6}\n",
            "{11, 12, 13, 14, 15, 16}\n",
            "False\n",
            "True\n",
            "{1, 2, 3, 4, 5, 6, 11, 12, 13, 14, 15, 16}\n",
            "{1, 2, 3, 4, 5, 6, 11, 12, 13, 14, 15, 16}\n",
            "True\n",
            "True\n"
          ]
        }
      ]
    },
    {
      "cell_type": "markdown",
      "source": [
        "# Dictionary in python\n",
        "1. values will be stored in key:value pair\n",
        "2. like set it will not follow the order(Unordered)\n",
        "3. elements will be accessed using its key\n",
        "4. Keys cannot be duplicated\n",
        "5. Values can be duplicated\n",
        "6. like set elements are enclosed with {}\n"
      ],
      "metadata": {
        "id": "3FomiKWqNERl"
      }
    },
    {
      "cell_type": "code",
      "source": [
        "mydict={'two':'2'}\n",
        "mydict1=dict()\n",
        "print(mydict)\n",
        "print(mydict1)\n",
        "print(type(mydict))\n"
      ],
      "metadata": {
        "colab": {
          "base_uri": "https://localhost:8080/"
        },
        "id": "jUYrlgK-NB26",
        "outputId": "42834636-84b1-4111-a175-44f2a89949be"
      },
      "execution_count": 135,
      "outputs": [
        {
          "output_type": "stream",
          "name": "stdout",
          "text": [
            "{'two': '2'}\n",
            "{}\n",
            "<class 'dict'>\n"
          ]
        }
      ]
    },
    {
      "cell_type": "code",
      "source": [
        "#adding elements to dictionary\n",
        "\n",
        "mydict['one']=1\n",
        "print(mydict)\n",
        "mydict['three']=3\n",
        "print(mydict)"
      ],
      "metadata": {
        "colab": {
          "base_uri": "https://localhost:8080/"
        },
        "id": "okACMyxiN44g",
        "outputId": "bacc82d2-c0aa-4af2-91c2-3e2c7214d682"
      },
      "execution_count": 136,
      "outputs": [
        {
          "output_type": "stream",
          "name": "stdout",
          "text": [
            "{'two': '2', 'one': 1}\n",
            "{'two': '2', 'one': 1, 'three': 3}\n"
          ]
        }
      ]
    },
    {
      "cell_type": "code",
      "source": [
        "#accessing the elements of dictionary\n",
        "print(mydict['one'])# 'one' is the key, value for the key will be printed as output\n",
        "print(mydict['three'])\n",
        "print(mydict.get('two'))\n",
        "print(mydict.get(\"four\",\"No value\"))"
      ],
      "metadata": {
        "colab": {
          "base_uri": "https://localhost:8080/"
        },
        "id": "8L9owLJROEO3",
        "outputId": "55b9ef66-f948-49ad-c1a8-bc4aebc2c9e0"
      },
      "execution_count": 137,
      "outputs": [
        {
          "output_type": "stream",
          "name": "stdout",
          "text": [
            "1\n",
            "3\n",
            "2\n",
            "No value\n"
          ]
        }
      ]
    },
    {
      "cell_type": "code",
      "source": [
        "#removing the elements from dictionary\n",
        "\n",
        "# del mydict['two']\n",
        "# print(mydict)\n",
        "\n",
        "# mydict.popitem()#it will remove the last element\n",
        "# print(mydict)\n",
        "\n",
        "mydict['four']=4\n",
        "mydict['five']=5\n",
        "print(mydict)\n",
        "print(len(mydict))\n",
        "mydict.pop('five')\n",
        "print(mydict)"
      ],
      "metadata": {
        "colab": {
          "base_uri": "https://localhost:8080/"
        },
        "id": "JT3A5Y7TOq_W",
        "outputId": "ddf006e4-16ca-42e9-fec4-7574516894b9"
      },
      "execution_count": 140,
      "outputs": [
        {
          "output_type": "stream",
          "name": "stdout",
          "text": [
            "{'two': '2', 'one': 1, 'three': 3, 'four': 4, 'five': 5}\n",
            "5\n",
            "{'two': '2', 'one': 1, 'three': 3, 'four': 4}\n"
          ]
        }
      ]
    },
    {
      "cell_type": "code",
      "source": [
        "print(\"Keys\",mydict.keys())\n",
        "print(\"values\",mydict.values())"
      ],
      "metadata": {
        "colab": {
          "base_uri": "https://localhost:8080/"
        },
        "id": "7CuBEz81Pehw",
        "outputId": "76d37248-9451-4a7b-98c0-09389d5a0b61"
      },
      "execution_count": 143,
      "outputs": [
        {
          "output_type": "stream",
          "name": "stdout",
          "text": [
            "Keys dict_keys(['two', 'one', 'three', 'four'])\n",
            "values dict_values(['2', 1, 3, 4])\n"
          ]
        }
      ]
    },
    {
      "cell_type": "code",
      "source": [
        "print(\"four\" in mydict)\n",
        "print(\"four\" not in mydict)\n",
        "print(\"six\" in mydict)#false\n",
        "print(\"six\" not in mydict)#true\n",
        "mydict[\"six\"]=6\n",
        "print(mydict)"
      ],
      "metadata": {
        "colab": {
          "base_uri": "https://localhost:8080/"
        },
        "id": "aHCm99ZvPsPo",
        "outputId": "1f3f9955-fbad-4eac-ff31-6637ea8fdc0a"
      },
      "execution_count": 146,
      "outputs": [
        {
          "output_type": "stream",
          "name": "stdout",
          "text": [
            "True\n",
            "False\n",
            "False\n",
            "True\n",
            "{'two': '2', 'one': 1, 'three': 3, 'four': 4, 'six': 6}\n"
          ]
        }
      ]
    },
    {
      "cell_type": "code",
      "source": [
        "dict2={\"seven\":7,\"eight\":8}\n",
        "mydict.update(dict2)\n",
        "print(mydict)\n",
        "print(mydict.items())\n",
        "# [(k,v),(k,v),(k,v)]\n",
        "mydict.setdefault(\"nine\",9)#check and insert,if the element is not present, if the key is alredy present, the value will not be updated in setdefault\n",
        "print(mydict)"
      ],
      "metadata": {
        "colab": {
          "base_uri": "https://localhost:8080/"
        },
        "id": "fRXsWz2JQG2f",
        "outputId": "9c40e881-53f0-4172-fddc-26b1ad0bef76"
      },
      "execution_count": 152,
      "outputs": [
        {
          "output_type": "stream",
          "name": "stdout",
          "text": [
            "{'two': '2', 'one': 1, 'three': 3, 'four': 4, 'six': 6, 'seven': 7, 'eight': 8, 'nine': 99}\n",
            "dict_items([('two', '2'), ('one', 1), ('three', 3), ('four', 4), ('six', 6), ('seven', 7), ('eight', 8), ('nine', 99)])\n",
            "{'two': '2', 'one': 1, 'three': 3, 'four': 4, 'six': 6, 'seven': 7, 'eight': 8, 'nine': 99}\n"
          ]
        }
      ]
    },
    {
      "cell_type": "code",
      "source": [
        "#control statements\n",
        "# 1.if\n",
        "# 2. if else\n",
        "# 3. if elif\n",
        "#break\n",
        "#continue\n",
        "\n"
      ],
      "metadata": {
        "id": "WBqqhPQ2RVRf"
      },
      "execution_count": null,
      "outputs": []
    },
    {
      "cell_type": "code",
      "source": [
        "nums=list(range(1,11))\n",
        "print(nums)\n",
        "nums.remove(10)\n",
        "if(10 in nums):\n",
        "  print(\"10 is present\")\n",
        "else: #false statement\n",
        "  print(\"10 is not present\")"
      ],
      "metadata": {
        "colab": {
          "base_uri": "https://localhost:8080/"
        },
        "id": "nbG5YM4aR-Yd",
        "outputId": "d056a8ae-ed26-4764-f477-15adb3262863"
      },
      "execution_count": 155,
      "outputs": [
        {
          "output_type": "stream",
          "name": "stdout",
          "text": [
            "[1, 2, 3, 4, 5, 6, 7, 8, 9, 10]\n",
            "10 is not present\n"
          ]
        }
      ]
    },
    {
      "cell_type": "code",
      "source": [
        "marks=7\n",
        "if(marks>90):\n",
        "  print(\"Grade A\")\n",
        "elif(marks>80):\n",
        "  print(\"Grade B\")\n",
        "elif(marks>70):\n",
        "  print(\"Grade C\")\n",
        "elif(marks>60):\n",
        "  print(\"Grade D\")\n",
        "elif(marks>50):\n",
        "  print(\"Grade E\")\n",
        "else:\n",
        "  print(\"Grade F\")"
      ],
      "metadata": {
        "colab": {
          "base_uri": "https://localhost:8080/"
        },
        "id": "Pq-HL1UER-FU",
        "outputId": "05ac7bb5-ee4a-4972-ff01-851a357a32ad"
      },
      "execution_count": 158,
      "outputs": [
        {
          "output_type": "stream",
          "name": "stdout",
          "text": [
            "Grade F\n"
          ]
        }
      ]
    },
    {
      "cell_type": "code",
      "source": [
        "age=17\n",
        "if(age>18):\n",
        "  print(\"eligible to vote\")\n",
        "else:\n",
        "  print(\"not eligible to vote\")"
      ],
      "metadata": {
        "colab": {
          "base_uri": "https://localhost:8080/"
        },
        "id": "MAQhhrfxS7a8",
        "outputId": "a6a4edbf-79df-47c4-c1f4-b3c0098910fb"
      },
      "execution_count": 161,
      "outputs": [
        {
          "output_type": "stream",
          "name": "stdout",
          "text": [
            "not eligible to vote\n"
          ]
        }
      ]
    },
    {
      "cell_type": "code",
      "source": [
        "nums\n",
        "for i in nums:\n",
        "  if(i==5):\n",
        "    break\n",
        "  print(i)"
      ],
      "metadata": {
        "colab": {
          "base_uri": "https://localhost:8080/"
        },
        "id": "YAH1ECBATdtv",
        "outputId": "0f047de5-55a8-4683-d36d-fd049cafa726"
      },
      "execution_count": 164,
      "outputs": [
        {
          "output_type": "stream",
          "name": "stdout",
          "text": [
            "1\n",
            "2\n",
            "3\n",
            "4\n"
          ]
        }
      ]
    },
    {
      "cell_type": "code",
      "source": [
        "nums\n",
        "for i in nums:\n",
        "  if(i==5):\n",
        "    continue\n",
        "  print(i,end=\"*\")"
      ],
      "metadata": {
        "colab": {
          "base_uri": "https://localhost:8080/"
        },
        "id": "3Jvp8UHRT1xO",
        "outputId": "1f9ab8c2-2fa4-42bd-aa97-cc11aade2a78"
      },
      "execution_count": 167,
      "outputs": [
        {
          "output_type": "stream",
          "name": "stdout",
          "text": [
            "1*2*3*4*6*7*8*9*"
          ]
        }
      ]
    },
    {
      "cell_type": "code",
      "source": [
        "set1\n",
        "for i in set1:\n",
        "  print(i)"
      ],
      "metadata": {
        "colab": {
          "base_uri": "https://localhost:8080/"
        },
        "id": "H2X7-PHrUOqJ",
        "outputId": "690a26c5-fb53-4640-9356-68fde8ad84f8"
      },
      "execution_count": 169,
      "outputs": [
        {
          "output_type": "stream",
          "name": "stdout",
          "text": [
            "1\n",
            "2\n",
            "3\n",
            "4\n",
            "5\n",
            "6\n"
          ]
        }
      ]
    },
    {
      "cell_type": "code",
      "source": [
        "nums=list(range(11,21))\n",
        "index=0\n",
        "while(index<len(nums)):\n",
        "  print(index,nums[index])\n",
        "  index=index+1\n",
        "\n",
        "\n",
        "print()\n",
        "\n",
        "index=len(nums)-1  #starting from 9\n",
        "while(index>=0): #current index value is above or equal to zero\n",
        "  print(index,nums[index]) #9  20  8 19\n",
        "  index=index-1  #index value is 8 7.........0,-1 and stop"
      ],
      "metadata": {
        "colab": {
          "base_uri": "https://localhost:8080/"
        },
        "id": "qJbB1c18UXMp",
        "outputId": "1137782e-a13f-492e-b97c-d674b13f3fdf"
      },
      "execution_count": 176,
      "outputs": [
        {
          "output_type": "stream",
          "name": "stdout",
          "text": [
            "0 11\n",
            "1 12\n",
            "2 13\n",
            "3 14\n",
            "4 15\n",
            "5 16\n",
            "6 17\n",
            "7 18\n",
            "8 19\n",
            "9 20\n",
            "\n",
            "9 20\n",
            "8 19\n",
            "7 18\n",
            "6 17\n",
            "5 16\n",
            "4 15\n",
            "3 14\n",
            "2 13\n",
            "1 12\n",
            "0 11\n"
          ]
        }
      ]
    },
    {
      "cell_type": "code",
      "source": [
        "from ast import comprehension\n",
        "#list comprehension\n",
        "mylist=[7,8,9]\n",
        "# [14,16,18] expected output\n",
        "mylist2=[]\n",
        "for i in mylist:\n",
        "  mylist2.append(i*2)\n",
        "print(mylist2)\n",
        "\n",
        "# using list comprehension\n",
        "mylist3=[i*2 for i in mylist]\n",
        "print(mylist3)\n",
        "\n",
        "mylist4=[i*2 for i in range(10,20) if i%2==0]\n",
        "print(mylist4)"
      ],
      "metadata": {
        "colab": {
          "base_uri": "https://localhost:8080/"
        },
        "id": "qUhlQR4QWTiG",
        "outputId": "9316909f-6331-472e-f54d-f88c5240ea87"
      },
      "execution_count": 180,
      "outputs": [
        {
          "output_type": "stream",
          "name": "stdout",
          "text": [
            "[14, 16, 18]\n",
            "[14, 16, 18]\n",
            "[20, 24, 28, 32, 36]\n"
          ]
        }
      ]
    },
    {
      "cell_type": "markdown",
      "source": [],
      "metadata": {
        "id": "tv5Hpv-cR9C1"
      }
    },
    {
      "cell_type": "code",
      "source": [
        "#dictionary comprehension\n",
        "\n",
        "number_square={i:i*2 for i in range(1,11)}\n",
        "print(number_square)"
      ],
      "metadata": {
        "colab": {
          "base_uri": "https://localhost:8080/"
        },
        "id": "GOGrYBiQXWsX",
        "outputId": "64507f1a-f0d6-48ce-f036-e91e25e63c4c"
      },
      "execution_count": 183,
      "outputs": [
        {
          "output_type": "stream",
          "name": "stdout",
          "text": [
            "{1: 2, 2: 4, 3: 6, 4: 8, 5: 10, 6: 12, 7: 14, 8: 16, 9: 18, 10: 20}\n"
          ]
        }
      ]
    },
    {
      "cell_type": "code",
      "source": [],
      "metadata": {
        "id": "4go-3vR4XV0z"
      },
      "execution_count": null,
      "outputs": []
    }
  ]
}