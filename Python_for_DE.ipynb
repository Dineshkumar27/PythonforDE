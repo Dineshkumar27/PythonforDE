{
  "nbformat": 4,
  "nbformat_minor": 0,
  "metadata": {
    "colab": {
      "provenance": [],
      "authorship_tag": "ABX9TyPyOyRaX9NaYEkECoBetpMT",
      "include_colab_link": true
    },
    "kernelspec": {
      "name": "python3",
      "display_name": "Python 3"
    },
    "language_info": {
      "name": "python"
    }
  },
  "cells": [
    {
      "cell_type": "markdown",
      "metadata": {
        "id": "view-in-github",
        "colab_type": "text"
      },
      "source": [
        "<a href=\"https://colab.research.google.com/github/Dineshkumar27/PythonforDE/blob/main/Python_for_DE.ipynb\" target=\"_parent\"><img src=\"https://colab.research.google.com/assets/colab-badge.svg\" alt=\"Open In Colab\"/></a>"
      ]
    },
    {
      "cell_type": "markdown",
      "source": [
        "# **Python Session 1**"
      ],
      "metadata": {
        "id": "AFWTXEIg_k0L"
      }
    },
    {
      "cell_type": "code",
      "execution_count": null,
      "metadata": {
        "colab": {
          "base_uri": "https://localhost:8080/"
        },
        "id": "Z-jq4Zux_Jam",
        "outputId": "b015ae88-a544-46ed-9a28-4aaad36498c9"
      },
      "outputs": [
        {
          "output_type": "stream",
          "name": "stdout",
          "text": [
            "Hello World!!\n"
          ]
        }
      ],
      "source": [
        "print(\"Hello World!!\")"
      ]
    },
    {
      "cell_type": "code",
      "source": [
        "a,b=10,20\n",
        "print(\"a=\",a,\" b=\",b)\n",
        "print(a+b)"
      ],
      "metadata": {
        "colab": {
          "base_uri": "https://localhost:8080/"
        },
        "id": "uCtlGiY6__6f",
        "outputId": "6b193751-507e-46e6-de6d-0ae5ddcdd8a3"
      },
      "execution_count": null,
      "outputs": [
        {
          "output_type": "stream",
          "name": "stdout",
          "text": [
            "a= 10  b= 20\n",
            "30\n"
          ]
        }
      ]
    },
    {
      "cell_type": "markdown",
      "source": [
        "String\n",
        "use to record some text information, is sequence of characters, basically python track every element in the string as sequence.\n",
        "\n",
        "**P  y  t  h  o  n** <br>\n",
        "  0  1  2  3  4  5    <br>\n",
        " -6 -5 -4 -3 -2 -1\n",
        "              \n"
      ],
      "metadata": {
        "id": "Mhkr4ZYRAxLG"
      }
    },
    {
      "cell_type": "code",
      "source": [
        "print(type(\"code from basics\"))\n",
        "print(\"hello\")\n",
        "print(\"Dinesh Kumar\")"
      ],
      "metadata": {
        "colab": {
          "base_uri": "https://localhost:8080/"
        },
        "id": "x8NnU5D5ANlC",
        "outputId": "eb72a888-b530-4e43-bea6-ae1f79aaf9c1"
      },
      "execution_count": null,
      "outputs": [
        {
          "output_type": "stream",
          "name": "stdout",
          "text": [
            "<class 'str'>\n",
            "hello\n",
            "Dinesh Kumar\n"
          ]
        }
      ]
    },
    {
      "cell_type": "code",
      "source": [
        "name=\"Dinesh Kumar\"\n",
        "print(id(name))#it is a number, so we cannot remember\n",
        "print(name)\n"
      ],
      "metadata": {
        "colab": {
          "base_uri": "https://localhost:8080/"
        },
        "id": "auVJ5SqmBpw3",
        "outputId": "dd136bbe-f64a-49a0-af1e-c5e8e0b04bee"
      },
      "execution_count": null,
      "outputs": [
        {
          "output_type": "stream",
          "name": "stdout",
          "text": [
            "131980502308016\n",
            "Dinesh Kumar\n"
          ]
        }
      ]
    },
    {
      "cell_type": "code",
      "source": [
        "expr=10*20\n",
        "print(expr)"
      ],
      "metadata": {
        "colab": {
          "base_uri": "https://localhost:8080/"
        },
        "id": "2rsv9KazCNt9",
        "outputId": "7ee8d5cf-9cde-4dbe-ca76-7060cceebf08"
      },
      "execution_count": null,
      "outputs": [
        {
          "output_type": "stream",
          "name": "stdout",
          "text": [
            "200\n"
          ]
        }
      ]
    },
    {
      "cell_type": "markdown",
      "source": [],
      "metadata": {
        "id": "aVYczJxWDaXP"
      }
    },
    {
      "cell_type": "code",
      "source": [],
      "metadata": {
        "id": "SDGK7xhSCQgZ"
      },
      "execution_count": null,
      "outputs": []
    },
    {
      "cell_type": "code",
      "source": [
        "mydata='''hello'''\n",
        "\n",
        "print(\"using print method\",mydata)\n",
        "mydata"
      ],
      "metadata": {
        "colab": {
          "base_uri": "https://localhost:8080/",
          "height": 52
        },
        "id": "3v_Ou-VeDcg_",
        "outputId": "54952bf4-e647-4987-cec3-5816fba63fd2"
      },
      "execution_count": null,
      "outputs": [
        {
          "output_type": "stream",
          "name": "stdout",
          "text": [
            "using print method hello\n"
          ]
        },
        {
          "output_type": "execute_result",
          "data": {
            "text/plain": [
              "'hello'"
            ],
            "application/vnd.google.colaboratory.intrinsic+json": {
              "type": "string"
            }
          },
          "metadata": {},
          "execution_count": 23
        }
      ]
    },
    {
      "cell_type": "markdown",
      "source": [
        "# String Indexing\n",
        "**Index starts with 0**\n"
      ],
      "metadata": {
        "id": "HjOOAt_7D-wF"
      }
    },
    {
      "cell_type": "code",
      "source": [
        "mydata[1]"
      ],
      "metadata": {
        "colab": {
          "base_uri": "https://localhost:8080/",
          "height": 35
        },
        "id": "TmcqZ9m5EPkS",
        "outputId": "0df0a5a6-dccf-413a-e2a2-c93f1e06c9a4"
      },
      "execution_count": null,
      "outputs": [
        {
          "output_type": "execute_result",
          "data": {
            "text/plain": [
              "'e'"
            ],
            "application/vnd.google.colaboratory.intrinsic+json": {
              "type": "string"
            }
          },
          "metadata": {},
          "execution_count": 25
        }
      ]
    },
    {
      "cell_type": "code",
      "source": [
        "mydata[-1]#print last letter"
      ],
      "metadata": {
        "colab": {
          "base_uri": "https://localhost:8080/",
          "height": 35
        },
        "id": "SJFXcM3aESiV",
        "outputId": "226ab062-fbd5-467f-9756-d3fe53749cf7"
      },
      "execution_count": null,
      "outputs": [
        {
          "output_type": "execute_result",
          "data": {
            "text/plain": [
              "'o'"
            ],
            "application/vnd.google.colaboratory.intrinsic+json": {
              "type": "string"
            }
          },
          "metadata": {},
          "execution_count": 26
        }
      ]
    },
    {
      "cell_type": "code",
      "source": [
        "mydata[-2]#print last letter"
      ],
      "metadata": {
        "colab": {
          "base_uri": "https://localhost:8080/",
          "height": 35
        },
        "id": "Qaxm3YrMEgC1",
        "outputId": "a6b4016a-b4c6-496b-a8b5-c159bdf35dfd"
      },
      "execution_count": null,
      "outputs": [
        {
          "output_type": "execute_result",
          "data": {
            "text/plain": [
              "'l'"
            ],
            "application/vnd.google.colaboratory.intrinsic+json": {
              "type": "string"
            }
          },
          "metadata": {},
          "execution_count": 27
        }
      ]
    },
    {
      "cell_type": "markdown",
      "source": [
        "**Slicing**\n",
        "Slicing mean taking a particular portion of a String"
      ],
      "metadata": {
        "id": "s1qi7Q4NJNQJ"
      }
    },
    {
      "cell_type": "code",
      "source": [
        "mydata[1:4]#from index 1 to 4-1th(3) index"
      ],
      "metadata": {
        "colab": {
          "base_uri": "https://localhost:8080/",
          "height": 35
        },
        "id": "hhqkBFYmDhEV",
        "outputId": "4af9eac1-77f6-45c0-98af-bdcfaebf19c7"
      },
      "execution_count": null,
      "outputs": [
        {
          "output_type": "execute_result",
          "data": {
            "text/plain": [
              "'ell'"
            ],
            "application/vnd.google.colaboratory.intrinsic+json": {
              "type": "string"
            }
          },
          "metadata": {},
          "execution_count": 29
        }
      ]
    },
    {
      "cell_type": "code",
      "source": [
        "mydata[:3]# if no number is specified before : then it will start from 0"
      ],
      "metadata": {
        "colab": {
          "base_uri": "https://localhost:8080/",
          "height": 35
        },
        "id": "pGkhd9y3FTJt",
        "outputId": "09abe18a-29bc-4a76-a693-94cb0e99a0ba"
      },
      "execution_count": null,
      "outputs": [
        {
          "output_type": "execute_result",
          "data": {
            "text/plain": [
              "'hel'"
            ],
            "application/vnd.google.colaboratory.intrinsic+json": {
              "type": "string"
            }
          },
          "metadata": {},
          "execution_count": 31
        }
      ]
    },
    {
      "cell_type": "code",
      "source": [
        "mydata[1:]#if no number is specified after : it will take the element upto end"
      ],
      "metadata": {
        "colab": {
          "base_uri": "https://localhost:8080/",
          "height": 35
        },
        "id": "FYa2ZQNlFhia",
        "outputId": "58249123-4010-41ff-b768-01876427310e"
      },
      "execution_count": null,
      "outputs": [
        {
          "output_type": "execute_result",
          "data": {
            "text/plain": [
              "'ello'"
            ],
            "application/vnd.google.colaboratory.intrinsic+json": {
              "type": "string"
            }
          },
          "metadata": {},
          "execution_count": 32
        }
      ]
    },
    {
      "cell_type": "code",
      "source": [
        "mydata[-3:-1]"
      ],
      "metadata": {
        "colab": {
          "base_uri": "https://localhost:8080/",
          "height": 35
        },
        "id": "qw0evTiEF1s9",
        "outputId": "3c5d3731-8ca0-4d73-d854-2efe9da951c0"
      },
      "execution_count": null,
      "outputs": [
        {
          "output_type": "execute_result",
          "data": {
            "text/plain": [
              "'ll'"
            ],
            "application/vnd.google.colaboratory.intrinsic+json": {
              "type": "string"
            }
          },
          "metadata": {},
          "execution_count": 33
        }
      ]
    },
    {
      "cell_type": "markdown",
      "source": [
        "![image.png](data:image/png;base64,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)"
      ],
      "metadata": {
        "id": "NFW26JkDE3Q6"
      }
    },
    {
      "cell_type": "code",
      "source": [
        "mydata[-5:-3]"
      ],
      "metadata": {
        "id": "TtCdsfN9GJ7m"
      },
      "execution_count": null,
      "outputs": []
    },
    {
      "cell_type": "code",
      "source": [
        "mydata[::-1]"
      ],
      "metadata": {
        "colab": {
          "base_uri": "https://localhost:8080/",
          "height": 35
        },
        "id": "HEeq49i7Ghu2",
        "outputId": "d9ff6d8d-d93e-438b-b1ac-df5c3bad5b57"
      },
      "execution_count": null,
      "outputs": [
        {
          "output_type": "execute_result",
          "data": {
            "text/plain": [
              "'olleh'"
            ],
            "application/vnd.google.colaboratory.intrinsic+json": {
              "type": "string"
            }
          },
          "metadata": {},
          "execution_count": 35
        }
      ]
    },
    {
      "cell_type": "code",
      "source": [
        "mydata[-3:-5]# we will get no output, number before the colon is higher that number after the colon"
      ],
      "metadata": {
        "colab": {
          "base_uri": "https://localhost:8080/",
          "height": 35
        },
        "id": "yrQGL_TeGqXh",
        "outputId": "bff5c18f-dc01-498a-81eb-3b06e907b56a"
      },
      "execution_count": null,
      "outputs": [
        {
          "output_type": "execute_result",
          "data": {
            "text/plain": [
              "''"
            ],
            "application/vnd.google.colaboratory.intrinsic+json": {
              "type": "string"
            }
          },
          "metadata": {},
          "execution_count": 40
        }
      ]
    },
    {
      "cell_type": "markdown",
      "source": [
        "Concatenating String"
      ],
      "metadata": {
        "id": "HzBSouzuHybB"
      }
    },
    {
      "cell_type": "code",
      "source": [
        "firstName=\"Hari\"\n",
        "lastName=\"Bhaskar\"\n",
        "print('-'*20)\n",
        "print(firstName+lastName)\n",
        "print('-'*20)\n",
        "print(\"CFB\"*5)\n"
      ],
      "metadata": {
        "colab": {
          "base_uri": "https://localhost:8080/"
        },
        "id": "x7AxCtDSG8iN",
        "outputId": "5a2cc31f-8d91-4598-d4a4-ba0963b63d39"
      },
      "execution_count": null,
      "outputs": [
        {
          "output_type": "stream",
          "name": "stdout",
          "text": [
            "--------------------\n",
            "HariBhaskar\n",
            "--------------------\n",
            "CFBCFBCFBCFBCFB\n"
          ]
        }
      ]
    },
    {
      "cell_type": "code",
      "source": [
        "firstName.upper()"
      ],
      "metadata": {
        "colab": {
          "base_uri": "https://localhost:8080/",
          "height": 35
        },
        "id": "LciHgFHZJXjN",
        "outputId": "5f471550-f077-4772-efaa-b540e3f61168"
      },
      "execution_count": null,
      "outputs": [
        {
          "output_type": "execute_result",
          "data": {
            "text/plain": [
              "'HARI'"
            ],
            "application/vnd.google.colaboratory.intrinsic+json": {
              "type": "string"
            }
          },
          "metadata": {},
          "execution_count": 44
        }
      ]
    },
    {
      "cell_type": "code",
      "source": [
        "firstName.lower()"
      ],
      "metadata": {
        "colab": {
          "base_uri": "https://localhost:8080/",
          "height": 35
        },
        "id": "rvWaIj2oJegf",
        "outputId": "b5a99e88-5512-4a5d-e2b8-93995158a7d9"
      },
      "execution_count": null,
      "outputs": [
        {
          "output_type": "execute_result",
          "data": {
            "text/plain": [
              "'hari'"
            ],
            "application/vnd.google.colaboratory.intrinsic+json": {
              "type": "string"
            }
          },
          "metadata": {},
          "execution_count": 45
        }
      ]
    },
    {
      "cell_type": "code",
      "source": [
        "firstName.index('H')"
      ],
      "metadata": {
        "colab": {
          "base_uri": "https://localhost:8080/"
        },
        "id": "QsJLG3MAJgx6",
        "outputId": "e45a68ba-04ac-4f24-d757-676afeb74e56"
      },
      "execution_count": null,
      "outputs": [
        {
          "output_type": "execute_result",
          "data": {
            "text/plain": [
              "0"
            ]
          },
          "metadata": {},
          "execution_count": 46
        }
      ]
    },
    {
      "cell_type": "markdown",
      "source": [
        "String Formatting"
      ],
      "metadata": {
        "id": "lk2PR7AzJyKx"
      }
    },
    {
      "cell_type": "code",
      "source": [
        "name=\"Peter\"\n",
        "age=24\n",
        "isMarried=True\n",
        "print(\"name \",name,\"age \",age,\"isMarried \",isMarried)\n",
        "print(\"My name is {}, my age is {}, and Am I married {}\".format(name,age,isMarried))\n",
        "print(f\"My name is {name}, age is {age*2}, Am i married {isMarried}\")\n",
        "print(\"My name is %s, my age is %d, and Am I married %s \"%(name,age,isMarried))\n"
      ],
      "metadata": {
        "colab": {
          "base_uri": "https://localhost:8080/"
        },
        "id": "xdvV5z6tJ0D9",
        "outputId": "12ce77e9-5b8a-4fa4-8381-5b3125d16f4f"
      },
      "execution_count": null,
      "outputs": [
        {
          "output_type": "stream",
          "name": "stdout",
          "text": [
            "name  Peter age  24 isMarried  True\n",
            "My name is Peter, my age is 24, and Am I married True\n",
            "My name is Peter, age is 48, Am i married True\n",
            "My name is Peter, my age is 24, and Am I married True \n"
          ]
        }
      ]
    },
    {
      "cell_type": "markdown",
      "source": [
        "To do\n",
        "1. isdigit()\n",
        "2. casefold()\n",
        "3. title()\n",
        "4. split()\n",
        "5. strip()"
      ],
      "metadata": {
        "id": "7qfGRLd0Ltdn"
      }
    },
    {
      "cell_type": "code",
      "source": [],
      "metadata": {
        "id": "LeWcsOeSKkkZ"
      },
      "execution_count": null,
      "outputs": []
    },
    {
      "cell_type": "markdown",
      "source": [
        "Numbers\n",
        "\n",
        "1. Integer(10,20,-3)\n",
        "2. Floating point(10.2)"
      ],
      "metadata": {
        "id": "iRfhGpnkMQV8"
      }
    },
    {
      "cell_type": "code",
      "source": [
        "num1,num2=10,3\n",
        "print(\"num1\",num1,\"num2\",num2)"
      ],
      "metadata": {
        "colab": {
          "base_uri": "https://localhost:8080/"
        },
        "id": "QPHdRHf6MRK5",
        "outputId": "763c6f4a-d4f6-41b7-e854-99a60b208cf6"
      },
      "execution_count": null,
      "outputs": [
        {
          "output_type": "stream",
          "name": "stdout",
          "text": [
            "num1 10 num2 3\n"
          ]
        }
      ]
    },
    {
      "cell_type": "code",
      "source": [
        "print(num1+num2)\n",
        "print(num1*num2)\n",
        "print(num1//num2)\n",
        "print(num1%num2)"
      ],
      "metadata": {
        "colab": {
          "base_uri": "https://localhost:8080/"
        },
        "id": "xmKF5u85Mt31",
        "outputId": "21b76d36-879a-49ab-9587-98e4b3be2463"
      },
      "execution_count": null,
      "outputs": [
        {
          "output_type": "stream",
          "name": "stdout",
          "text": [
            "13\n",
            "30\n",
            "3\n",
            "1\n"
          ]
        }
      ]
    },
    {
      "cell_type": "code",
      "source": [
        "2+10*10+3\n"
      ],
      "metadata": {
        "colab": {
          "base_uri": "https://localhost:8080/"
        },
        "id": "KKHL7DxkNNvb",
        "outputId": "489bab9b-14af-4465-ada1-6fd3ce70dd21"
      },
      "execution_count": null,
      "outputs": [
        {
          "output_type": "execute_result",
          "data": {
            "text/plain": [
              "105"
            ]
          },
          "metadata": {},
          "execution_count": 58
        }
      ]
    },
    {
      "cell_type": "code",
      "source": [
        "(2+10)*(10+3)"
      ],
      "metadata": {
        "colab": {
          "base_uri": "https://localhost:8080/"
        },
        "id": "_jA5-Q2nNT-s",
        "outputId": "ef177839-8fbe-4da4-bea0-c4f5871b5191"
      },
      "execution_count": null,
      "outputs": [
        {
          "output_type": "execute_result",
          "data": {
            "text/plain": [
              "156"
            ]
          },
          "metadata": {},
          "execution_count": 59
        }
      ]
    },
    {
      "cell_type": "code",
      "source": [
        "15/2+10"
      ],
      "metadata": {
        "colab": {
          "base_uri": "https://localhost:8080/"
        },
        "id": "U_ZKtXIRNvk3",
        "outputId": "6ce15540-1677-4eb8-9b7c-a4cc4dd13cef"
      },
      "execution_count": null,
      "outputs": [
        {
          "output_type": "execute_result",
          "data": {
            "text/plain": [
              "17.5"
            ]
          },
          "metadata": {},
          "execution_count": 60
        }
      ]
    },
    {
      "cell_type": "markdown",
      "source": [
        "variable must be meaningful\n",
        "should start with _ or alphabet\n",
        "should not have any spl. characters"
      ],
      "metadata": {
        "id": "BColo53dOYQd"
      }
    },
    {
      "cell_type": "code",
      "source": [
        "age=10\n",
        "age10=1\n",
        "age_10=1\n",
        "first_name=\"python\"\n",
        "FIRST_NAME=\"PROGRAMMING\"\n",
        "print(first_name)"
      ],
      "metadata": {
        "colab": {
          "base_uri": "https://localhost:8080/"
        },
        "id": "tPI3Ms5IOAhV",
        "outputId": "715963c2-6785-4e68-d3fb-007c3d3d0753"
      },
      "execution_count": null,
      "outputs": [
        {
          "output_type": "stream",
          "name": "stdout",
          "text": [
            "python\n"
          ]
        }
      ]
    },
    {
      "cell_type": "markdown",
      "source": [
        "Datatype <br>\n",
        "**Single values**\n",
        "1. int\n",
        "2. float\n",
        "3. Strings\n",
        "8. Boolean\n",
        "**Multiple values**\n",
        "4. Lists\n",
        "5. Dictionary\n",
        "6. Typles\n",
        "7. Set\n"
      ],
      "metadata": {
        "id": "EVY8_14YPAR6"
      }
    },
    {
      "cell_type": "code",
      "source": [
        "age=10\n",
        "avg=10.5\n",
        "name=\"python\"\n",
        "isMarried=False\n",
        "print(type(age))\n",
        "print(type(avg))\n",
        "print(type(name))\n",
        "print(type(isMarried))"
      ],
      "metadata": {
        "colab": {
          "base_uri": "https://localhost:8080/"
        },
        "id": "fqtnmu-cPl7x",
        "outputId": "ee659e16-b008-45b0-ef16-0a235af55e55"
      },
      "execution_count": null,
      "outputs": [
        {
          "output_type": "stream",
          "name": "stdout",
          "text": [
            "<class 'int'>\n",
            "<class 'float'>\n",
            "<class 'str'>\n",
            "<class 'bool'>\n"
          ]
        }
      ]
    },
    {
      "cell_type": "markdown",
      "source": [
        "List\n",
        "1. creating list\n",
        "2. Indexing and Slicing\n",
        "3. Basic List Methods\n",
        "4. Nesting Lists\n",
        "5. List Comprehension"
      ],
      "metadata": {
        "id": "6FY4PA1DQPiu"
      }
    },
    {
      "cell_type": "markdown",
      "source": [
        "\n",
        "\n",
        "```\n",
        "List is ordered\n",
        "List is mutable\n",
        "List can have hetrogenous data\n",
        "List can have duplicate\n",
        "```\n",
        "\n"
      ],
      "metadata": {
        "id": "vfjFoFMURpH1"
      }
    },
    {
      "cell_type": "code",
      "source": [
        "lst=[]\n",
        "lst1=list()\n",
        "print(lst)\n",
        "print(lst1)"
      ],
      "metadata": {
        "colab": {
          "base_uri": "https://localhost:8080/"
        },
        "id": "-VtbI1OAQLSV",
        "outputId": "17c95901-31f0-4a5f-9e72-07eaf7783b90"
      },
      "execution_count": null,
      "outputs": [
        {
          "output_type": "stream",
          "name": "stdout",
          "text": [
            "[]\n",
            "[]\n"
          ]
        }
      ]
    },
    {
      "cell_type": "markdown",
      "source": [
        "\n",
        "\n",
        "```\n",
        "[101,\"Rajkumar\",\"12th\",[89,67,56]]\n",
        "                       __________\n",
        "  0      1        2        3    \n",
        "```\n",
        "\n"
      ],
      "metadata": {
        "id": "y_dEzCR_RGBR"
      }
    },
    {
      "cell_type": "code",
      "source": [
        "student=[101,\"Rajkumar\",\"12th\",[89,67,56],101]#[id,name,class,marks,doornumber]\n",
        "print(student)"
      ],
      "metadata": {
        "colab": {
          "base_uri": "https://localhost:8080/"
        },
        "id": "5KLV3HBXQmt3",
        "outputId": "322a9d1f-4024-42ab-bfe2-744669c37746"
      },
      "execution_count": null,
      "outputs": [
        {
          "output_type": "stream",
          "name": "stdout",
          "text": [
            "[101, 'Rajkumar', '12th', [89, 67, 56], 101]\n"
          ]
        }
      ]
    },
    {
      "cell_type": "code",
      "source": [
        "#chaning the name of the student\n",
        "student[1]=\"Raju\"\n",
        "print(student)\n"
      ],
      "metadata": {
        "colab": {
          "base_uri": "https://localhost:8080/"
        },
        "id": "V6kSkZU1Q9Q2",
        "outputId": "5f318eac-f7a0-4f3e-e550-4982ef4c2b5e"
      },
      "execution_count": null,
      "outputs": [
        {
          "output_type": "stream",
          "name": "stdout",
          "text": [
            "[101, 'Raju', '12th', [89, 67, 56], 101]\n"
          ]
        }
      ]
    },
    {
      "cell_type": "code",
      "source": [
        "#find the number of elements in student list\n",
        "len(student)"
      ],
      "metadata": {
        "colab": {
          "base_uri": "https://localhost:8080/"
        },
        "id": "e7zxLxE0Ronf",
        "outputId": "433c305b-91b3-4650-c7ce-929fbee6ebff"
      },
      "execution_count": null,
      "outputs": [
        {
          "output_type": "execute_result",
          "data": {
            "text/plain": [
              "5"
            ]
          },
          "metadata": {},
          "execution_count": 71
        }
      ]
    },
    {
      "cell_type": "code",
      "source": [
        "student[2]"
      ],
      "metadata": {
        "colab": {
          "base_uri": "https://localhost:8080/",
          "height": 35
        },
        "id": "9bMQw3e1RWP6",
        "outputId": "2f090703-c53b-4dff-a47a-d5b44038209d"
      },
      "execution_count": null,
      "outputs": [
        {
          "output_type": "execute_result",
          "data": {
            "text/plain": [
              "'12th'"
            ],
            "application/vnd.google.colaboratory.intrinsic+json": {
              "type": "string"
            }
          },
          "metadata": {},
          "execution_count": 72
        }
      ]
    },
    {
      "cell_type": "code",
      "source": [
        "student[-1]"
      ],
      "metadata": {
        "colab": {
          "base_uri": "https://localhost:8080/"
        },
        "id": "4BMYJCeRSVQ5",
        "outputId": "554526e1-15ff-489d-a9bf-cda207b050cf"
      },
      "execution_count": null,
      "outputs": [
        {
          "output_type": "execute_result",
          "data": {
            "text/plain": [
              "101"
            ]
          },
          "metadata": {},
          "execution_count": 73
        }
      ]
    },
    {
      "cell_type": "code",
      "source": [
        "student[-2]"
      ],
      "metadata": {
        "colab": {
          "base_uri": "https://localhost:8080/"
        },
        "id": "n1BcoFDiSX8e",
        "outputId": "ad3284c8-29b6-4541-df03-0b0c6857cedc"
      },
      "execution_count": null,
      "outputs": [
        {
          "output_type": "execute_result",
          "data": {
            "text/plain": [
              "[89, 67, 56]"
            ]
          },
          "metadata": {},
          "execution_count": 75
        }
      ]
    },
    {
      "cell_type": "code",
      "source": [
        "student[-2][1]"
      ],
      "metadata": {
        "colab": {
          "base_uri": "https://localhost:8080/"
        },
        "id": "lE4PLzSeSePn",
        "outputId": "76f1c8ed-c16e-440b-ee4f-bac5496d9abb"
      },
      "execution_count": null,
      "outputs": [
        {
          "output_type": "execute_result",
          "data": {
            "text/plain": [
              "67"
            ]
          },
          "metadata": {},
          "execution_count": 77
        }
      ]
    },
    {
      "cell_type": "code",
      "source": [
        "len(student[-2])"
      ],
      "metadata": {
        "colab": {
          "base_uri": "https://localhost:8080/"
        },
        "id": "z55COkrTShU6",
        "outputId": "7b37155e-62c6-4b2a-91b5-a342dc519a1a"
      },
      "execution_count": null,
      "outputs": [
        {
          "output_type": "execute_result",
          "data": {
            "text/plain": [
              "3"
            ]
          },
          "metadata": {},
          "execution_count": 78
        }
      ]
    },
    {
      "cell_type": "markdown",
      "source": [
        "Add elements to the list"
      ],
      "metadata": {
        "id": "Jp88QWuOS83Y"
      }
    },
    {
      "cell_type": "code",
      "source": [
        "lst=[]"
      ],
      "metadata": {
        "id": "Vowz_doeSmzr"
      },
      "execution_count": null,
      "outputs": []
    },
    {
      "cell_type": "code",
      "source": [
        "lst.append(1)\n",
        "print(lst)"
      ],
      "metadata": {
        "colab": {
          "base_uri": "https://localhost:8080/"
        },
        "id": "oWsNiGS0TBc4",
        "outputId": "3a504d89-be70-4232-91e9-affd8023434e"
      },
      "execution_count": null,
      "outputs": [
        {
          "output_type": "stream",
          "name": "stdout",
          "text": [
            "[1]\n"
          ]
        }
      ]
    },
    {
      "cell_type": "code",
      "source": [
        "lst.append(4)\n",
        "print(lst)"
      ],
      "metadata": {
        "colab": {
          "base_uri": "https://localhost:8080/"
        },
        "id": "jLSumLfETGaR",
        "outputId": "a6213ff1-f541-4d8c-b9dc-473f2d34c459"
      },
      "execution_count": null,
      "outputs": [
        {
          "output_type": "stream",
          "name": "stdout",
          "text": [
            "[1, 4]\n"
          ]
        }
      ]
    },
    {
      "cell_type": "code",
      "source": [
        "lst.append(56)\n",
        "print(lst)"
      ],
      "metadata": {
        "colab": {
          "base_uri": "https://localhost:8080/"
        },
        "id": "6vQk0g6nTIf6",
        "outputId": "221975d3-0493-4773-886c-a1ecb67da3fe"
      },
      "execution_count": null,
      "outputs": [
        {
          "output_type": "stream",
          "name": "stdout",
          "text": [
            "[1, 4, 56]\n"
          ]
        }
      ]
    },
    {
      "cell_type": "code",
      "source": [
        "lst.append(\"Vasu\")\n",
        "print(lst)"
      ],
      "metadata": {
        "colab": {
          "base_uri": "https://localhost:8080/"
        },
        "id": "Efw4KPaHTOY_",
        "outputId": "d83424cf-02d4-4d56-f453-5e6d99edd6e7"
      },
      "execution_count": null,
      "outputs": [
        {
          "output_type": "stream",
          "name": "stdout",
          "text": [
            "[1, 4, 56, 'Vasu']\n"
          ]
        }
      ]
    },
    {
      "cell_type": "code",
      "source": [
        "lst.extend([23])\n",
        "lst"
      ],
      "metadata": {
        "colab": {
          "base_uri": "https://localhost:8080/"
        },
        "id": "uHA_aT7vTPsK",
        "outputId": "a641f73a-f3fd-4eec-b075-706c8bc55308"
      },
      "execution_count": null,
      "outputs": [
        {
          "output_type": "execute_result",
          "data": {
            "text/plain": [
              "[1, 4, 56, 'Vasu', 45, 89, 'Chennai', 23]"
            ]
          },
          "metadata": {},
          "execution_count": 97
        }
      ]
    },
    {
      "cell_type": "code",
      "source": [
        "lst.extend([1,2,6,7,8,99])\n",
        "lst"
      ],
      "metadata": {
        "colab": {
          "base_uri": "https://localhost:8080/"
        },
        "id": "cs0TznIVTXr_",
        "outputId": "4f913de6-2ee1-477b-a095-2f7af0514368"
      },
      "execution_count": null,
      "outputs": [
        {
          "output_type": "execute_result",
          "data": {
            "text/plain": [
              "[1, 4, 56, 'Vasu', 45, 89, 'Chennai', 23, 1, 2, 6, 7, 8, 99]"
            ]
          },
          "metadata": {},
          "execution_count": 98
        }
      ]
    },
    {
      "cell_type": "markdown",
      "source": [
        "List slicing <br>\n",
        "\n",
        "listname[startindex:endindex]"
      ],
      "metadata": {
        "id": "zIT6kysiUOkc"
      }
    },
    {
      "cell_type": "markdown",
      "source": [
        "\n",
        "\n",
        "```\n",
        "[1, 4, 56, 'Vasu', 45, 89, 'Chennai', 23, 1, 2, 6,  7, 8 , 99]\n",
        " 0  1   2    3      4   5     6       7   8  9  10 11  12  13\n",
        "```\n",
        "\n"
      ],
      "metadata": {
        "id": "5uuVq1urUZid"
      }
    },
    {
      "cell_type": "code",
      "source": [
        "lst[3:10]#3 to 9"
      ],
      "metadata": {
        "colab": {
          "base_uri": "https://localhost:8080/"
        },
        "id": "7XWaykF9UVxg",
        "outputId": "ea50ac5c-b254-4a74-d9a2-f00003b070f9"
      },
      "execution_count": null,
      "outputs": [
        {
          "output_type": "execute_result",
          "data": {
            "text/plain": [
              "['Vasu', 45, 89, 'Chennai', 23, 1, 2]"
            ]
          },
          "metadata": {},
          "execution_count": 101
        }
      ]
    },
    {
      "cell_type": "code",
      "source": [
        "lst[:10]#0 to 9"
      ],
      "metadata": {
        "colab": {
          "base_uri": "https://localhost:8080/"
        },
        "id": "ZFgt1AyzUXPs",
        "outputId": "540aa706-6dd6-49e6-bb2e-484f133b2454"
      },
      "execution_count": null,
      "outputs": [
        {
          "output_type": "execute_result",
          "data": {
            "text/plain": [
              "[1, 4, 56, 'Vasu', 45, 89, 'Chennai', 23, 1, 2]"
            ]
          },
          "metadata": {},
          "execution_count": 102
        }
      ]
    },
    {
      "cell_type": "code",
      "source": [
        "lst[2:]#2 to last index(13)"
      ],
      "metadata": {
        "colab": {
          "base_uri": "https://localhost:8080/"
        },
        "id": "cRmkMht_U15p",
        "outputId": "d8396296-6b0c-4a5d-c0f5-34afa0734fd4"
      },
      "execution_count": null,
      "outputs": [
        {
          "output_type": "execute_result",
          "data": {
            "text/plain": [
              "[56, 'Vasu', 45, 89, 'Chennai', 23, 1, 2, 6, 7, 8, 99]"
            ]
          },
          "metadata": {},
          "execution_count": 103
        }
      ]
    },
    {
      "cell_type": "code",
      "source": [
        "lst[13:10]#0 to 9"
      ],
      "metadata": {
        "id": "dE-mMqVYU7Uq",
        "outputId": "b809eb71-2cf3-41e0-d09c-36dc89b145ba",
        "colab": {
          "base_uri": "https://localhost:8080/"
        }
      },
      "execution_count": null,
      "outputs": [
        {
          "output_type": "execute_result",
          "data": {
            "text/plain": [
              "[]"
            ]
          },
          "metadata": {},
          "execution_count": 104
        }
      ]
    }
  ]
}